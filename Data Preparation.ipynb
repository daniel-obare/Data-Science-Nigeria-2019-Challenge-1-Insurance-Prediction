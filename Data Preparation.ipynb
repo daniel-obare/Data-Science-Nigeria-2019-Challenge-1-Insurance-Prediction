{
 "cells": [
  {
   "cell_type": "markdown",
   "metadata": {},
   "source": [
    "# Data Science Nigeria 2019 Challenge 1 Insurance Prediction"
   ]
  },
  {
   "cell_type": "markdown",
   "metadata": {},
   "source": [
    "Recently, there has been an increase in the number of building collapse in Lagos and major cities in Nigeria. Olusola Insurance Company offers a building insurance policy that protects buildings against damages that could be caused by a fire or vandalism, by a flood or storm.\n",
    "\n",
    "You have been appointed as the Lead Data Analyst to build a predictive model to determine if a building will have an insurance claim during a certain period or not. You will have to predict the probability of having at least one claim over the insured period of the building.\n",
    "\n",
    "The model will be based on the building characteristics. The target variable, **Claim**, is a:\n",
    "\n",
    " **1 if the building has at least a claim over the insured period.**\n",
    " \n",
    " **0 if the building doesn’t have a claim over the insured period.**"
   ]
  },
  {
   "cell_type": "code",
   "execution_count": 1,
   "metadata": {},
   "outputs": [],
   "source": [
    "import pandas as pd\n",
    "import numpy as np\n",
    "import warnings\n",
    "warnings.filterwarnings('ignore')\n",
    "import datetime as dt                           #convert date formats\n",
    "from scipy import stats                         #statistical analysis\n",
    "from IPython.display import display \n",
    "import matplotlib.pyplot as plt\n",
    "%matplotlib inline\n",
    "#\n",
    "import seaborn as sns\n",
    "sns.set()\n",
    "import gc                                       # memory management"
   ]
  },
  {
   "cell_type": "code",
   "execution_count": 2,
   "metadata": {},
   "outputs": [],
   "source": [
    "#Setting styles and aesthetics\n",
    "pd.set_option('display.max_columns', 200)\n",
    "pd.options.display.max_rows =30\n",
    "pd.options.display.float_format = '{:,.2f}'.format\n",
    "\n",
    "plt.style.use('ggplot')\n",
    "plt.rcParams['figure.figsize'] = (18, 8)\n",
    "\n",
    "# Graphics in SVG format are more sharp and legible\n",
    "#%config InlineBackend.figure_format = 'svg'"
   ]
  },
  {
   "cell_type": "code",
   "execution_count": 3,
   "metadata": {},
   "outputs": [],
   "source": [
    "train = pd.read_csv('train_data.csv')\n",
    "test = pd.read_csv('test_data.csv')\n",
    "#copies\n",
    "trn = train.copy()\n",
    "tst = test.copy()"
   ]
  },
  {
   "cell_type": "code",
   "execution_count": 4,
   "metadata": {},
   "outputs": [
    {
     "name": "stdout",
     "output_type": "stream",
     "text": [
      "Train data shape: 7160 Rows, 14 Columns\n",
      "Test data shape: 3069 Rows, 13 Columns\n"
     ]
    }
   ],
   "source": [
    "# Check The Shape Of The Data Loaded\n",
    "print('Train data shape: {} Rows, {} Columns'.format(*train.shape))\n",
    "print('Test data shape: {} Rows, {} Columns'.format(*test.shape))"
   ]
  },
  {
   "cell_type": "code",
   "execution_count": 5,
   "metadata": {},
   "outputs": [
    {
     "data": {
      "text/plain": [
       "'Train data'"
      ]
     },
     "metadata": {},
     "output_type": "display_data"
    },
    {
     "data": {
      "text/html": [
       "<div>\n",
       "<style scoped>\n",
       "    .dataframe tbody tr th:only-of-type {\n",
       "        vertical-align: middle;\n",
       "    }\n",
       "\n",
       "    .dataframe tbody tr th {\n",
       "        vertical-align: top;\n",
       "    }\n",
       "\n",
       "    .dataframe thead th {\n",
       "        text-align: right;\n",
       "    }\n",
       "</style>\n",
       "<table border=\"1\" class=\"dataframe\">\n",
       "  <thead>\n",
       "    <tr style=\"text-align: right;\">\n",
       "      <th></th>\n",
       "      <th>Customer Id</th>\n",
       "      <th>YearOfObservation</th>\n",
       "      <th>Insured_Period</th>\n",
       "      <th>Residential</th>\n",
       "      <th>Building_Painted</th>\n",
       "      <th>Building_Fenced</th>\n",
       "      <th>Garden</th>\n",
       "      <th>Settlement</th>\n",
       "      <th>Building Dimension</th>\n",
       "      <th>Building_Type</th>\n",
       "      <th>Date_of_Occupancy</th>\n",
       "      <th>NumberOfWindows</th>\n",
       "      <th>Geo_Code</th>\n",
       "      <th>Claim</th>\n",
       "    </tr>\n",
       "  </thead>\n",
       "  <tbody>\n",
       "    <tr>\n",
       "      <th>0</th>\n",
       "      <td>H14663</td>\n",
       "      <td>2013</td>\n",
       "      <td>1.00</td>\n",
       "      <td>0</td>\n",
       "      <td>N</td>\n",
       "      <td>V</td>\n",
       "      <td>V</td>\n",
       "      <td>U</td>\n",
       "      <td>290.00</td>\n",
       "      <td>1</td>\n",
       "      <td>1,960.00</td>\n",
       "      <td>.</td>\n",
       "      <td>1053</td>\n",
       "      <td>0</td>\n",
       "    </tr>\n",
       "    <tr>\n",
       "      <th>1</th>\n",
       "      <td>H2037</td>\n",
       "      <td>2015</td>\n",
       "      <td>1.00</td>\n",
       "      <td>0</td>\n",
       "      <td>V</td>\n",
       "      <td>N</td>\n",
       "      <td>O</td>\n",
       "      <td>R</td>\n",
       "      <td>490.00</td>\n",
       "      <td>1</td>\n",
       "      <td>1,850.00</td>\n",
       "      <td>4</td>\n",
       "      <td>1053</td>\n",
       "      <td>0</td>\n",
       "    </tr>\n",
       "    <tr>\n",
       "      <th>2</th>\n",
       "      <td>H3802</td>\n",
       "      <td>2014</td>\n",
       "      <td>1.00</td>\n",
       "      <td>0</td>\n",
       "      <td>N</td>\n",
       "      <td>V</td>\n",
       "      <td>V</td>\n",
       "      <td>U</td>\n",
       "      <td>595.00</td>\n",
       "      <td>1</td>\n",
       "      <td>1,960.00</td>\n",
       "      <td>.</td>\n",
       "      <td>1053</td>\n",
       "      <td>0</td>\n",
       "    </tr>\n",
       "  </tbody>\n",
       "</table>\n",
       "</div>"
      ],
      "text/plain": [
       "  Customer Id  YearOfObservation  Insured_Period  Residential  \\\n",
       "0      H14663               2013            1.00            0   \n",
       "1       H2037               2015            1.00            0   \n",
       "2       H3802               2014            1.00            0   \n",
       "\n",
       "  Building_Painted Building_Fenced Garden Settlement  Building Dimension  \\\n",
       "0                N               V      V          U              290.00   \n",
       "1                V               N      O          R              490.00   \n",
       "2                N               V      V          U              595.00   \n",
       "\n",
       "   Building_Type  Date_of_Occupancy NumberOfWindows Geo_Code  Claim  \n",
       "0              1           1,960.00               .     1053      0  \n",
       "1              1           1,850.00               4     1053      0  \n",
       "2              1           1,960.00               .     1053      0  "
      ]
     },
     "metadata": {},
     "output_type": "display_data"
    },
    {
     "data": {
      "text/html": [
       "<div>\n",
       "<style scoped>\n",
       "    .dataframe tbody tr th:only-of-type {\n",
       "        vertical-align: middle;\n",
       "    }\n",
       "\n",
       "    .dataframe tbody tr th {\n",
       "        vertical-align: top;\n",
       "    }\n",
       "\n",
       "    .dataframe thead th {\n",
       "        text-align: right;\n",
       "    }\n",
       "</style>\n",
       "<table border=\"1\" class=\"dataframe\">\n",
       "  <thead>\n",
       "    <tr style=\"text-align: right;\">\n",
       "      <th></th>\n",
       "      <th>Customer Id</th>\n",
       "      <th>YearOfObservation</th>\n",
       "      <th>Insured_Period</th>\n",
       "      <th>Residential</th>\n",
       "      <th>Building_Painted</th>\n",
       "      <th>Building_Fenced</th>\n",
       "      <th>Garden</th>\n",
       "      <th>Settlement</th>\n",
       "      <th>Building Dimension</th>\n",
       "      <th>Building_Type</th>\n",
       "      <th>Date_of_Occupancy</th>\n",
       "      <th>NumberOfWindows</th>\n",
       "      <th>Geo_Code</th>\n",
       "      <th>Claim</th>\n",
       "    </tr>\n",
       "  </thead>\n",
       "  <tbody>\n",
       "    <tr>\n",
       "      <th>7157</th>\n",
       "      <td>H6204</td>\n",
       "      <td>2016</td>\n",
       "      <td>0.04</td>\n",
       "      <td>0</td>\n",
       "      <td>V</td>\n",
       "      <td>V</td>\n",
       "      <td>V</td>\n",
       "      <td>U</td>\n",
       "      <td>nan</td>\n",
       "      <td>1</td>\n",
       "      <td>1,992.00</td>\n",
       "      <td>.</td>\n",
       "      <td>NaN</td>\n",
       "      <td>0</td>\n",
       "    </tr>\n",
       "    <tr>\n",
       "      <th>7158</th>\n",
       "      <td>H6537</td>\n",
       "      <td>2013</td>\n",
       "      <td>1.00</td>\n",
       "      <td>0</td>\n",
       "      <td>V</td>\n",
       "      <td>V</td>\n",
       "      <td>V</td>\n",
       "      <td>U</td>\n",
       "      <td>nan</td>\n",
       "      <td>1</td>\n",
       "      <td>1,972.00</td>\n",
       "      <td>.</td>\n",
       "      <td>NaN</td>\n",
       "      <td>0</td>\n",
       "    </tr>\n",
       "    <tr>\n",
       "      <th>7159</th>\n",
       "      <td>H7470</td>\n",
       "      <td>2014</td>\n",
       "      <td>1.00</td>\n",
       "      <td>0</td>\n",
       "      <td>V</td>\n",
       "      <td>V</td>\n",
       "      <td>V</td>\n",
       "      <td>U</td>\n",
       "      <td>nan</td>\n",
       "      <td>1</td>\n",
       "      <td>2,004.00</td>\n",
       "      <td>.</td>\n",
       "      <td>NaN</td>\n",
       "      <td>0</td>\n",
       "    </tr>\n",
       "  </tbody>\n",
       "</table>\n",
       "</div>"
      ],
      "text/plain": [
       "     Customer Id  YearOfObservation  Insured_Period  Residential  \\\n",
       "7157       H6204               2016            0.04            0   \n",
       "7158       H6537               2013            1.00            0   \n",
       "7159       H7470               2014            1.00            0   \n",
       "\n",
       "     Building_Painted Building_Fenced Garden Settlement  Building Dimension  \\\n",
       "7157                V               V      V          U                 nan   \n",
       "7158                V               V      V          U                 nan   \n",
       "7159                V               V      V          U                 nan   \n",
       "\n",
       "      Building_Type  Date_of_Occupancy NumberOfWindows Geo_Code  Claim  \n",
       "7157              1           1,992.00               .      NaN      0  \n",
       "7158              1           1,972.00               .      NaN      0  \n",
       "7159              1           2,004.00               .      NaN      0  "
      ]
     },
     "metadata": {},
     "output_type": "display_data"
    },
    {
     "data": {
      "text/plain": [
       "'test data'"
      ]
     },
     "metadata": {},
     "output_type": "display_data"
    },
    {
     "data": {
      "text/html": [
       "<div>\n",
       "<style scoped>\n",
       "    .dataframe tbody tr th:only-of-type {\n",
       "        vertical-align: middle;\n",
       "    }\n",
       "\n",
       "    .dataframe tbody tr th {\n",
       "        vertical-align: top;\n",
       "    }\n",
       "\n",
       "    .dataframe thead th {\n",
       "        text-align: right;\n",
       "    }\n",
       "</style>\n",
       "<table border=\"1\" class=\"dataframe\">\n",
       "  <thead>\n",
       "    <tr style=\"text-align: right;\">\n",
       "      <th></th>\n",
       "      <th>Customer Id</th>\n",
       "      <th>YearOfObservation</th>\n",
       "      <th>Insured_Period</th>\n",
       "      <th>Residential</th>\n",
       "      <th>Building_Painted</th>\n",
       "      <th>Building_Fenced</th>\n",
       "      <th>Garden</th>\n",
       "      <th>Settlement</th>\n",
       "      <th>Building Dimension</th>\n",
       "      <th>Building_Type</th>\n",
       "      <th>Date_of_Occupancy</th>\n",
       "      <th>NumberOfWindows</th>\n",
       "      <th>Geo_Code</th>\n",
       "    </tr>\n",
       "  </thead>\n",
       "  <tbody>\n",
       "    <tr>\n",
       "      <th>0</th>\n",
       "      <td>H11920</td>\n",
       "      <td>2013</td>\n",
       "      <td>1.00</td>\n",
       "      <td>0</td>\n",
       "      <td>V</td>\n",
       "      <td>N</td>\n",
       "      <td>O</td>\n",
       "      <td>R</td>\n",
       "      <td>300.00</td>\n",
       "      <td>1</td>\n",
       "      <td>1,960.00</td>\n",
       "      <td>3</td>\n",
       "      <td>3310</td>\n",
       "    </tr>\n",
       "    <tr>\n",
       "      <th>1</th>\n",
       "      <td>H11921</td>\n",
       "      <td>2016</td>\n",
       "      <td>1.00</td>\n",
       "      <td>0</td>\n",
       "      <td>V</td>\n",
       "      <td>N</td>\n",
       "      <td>O</td>\n",
       "      <td>R</td>\n",
       "      <td>300.00</td>\n",
       "      <td>1</td>\n",
       "      <td>1,960.00</td>\n",
       "      <td>3</td>\n",
       "      <td>3310</td>\n",
       "    </tr>\n",
       "    <tr>\n",
       "      <th>2</th>\n",
       "      <td>H9805</td>\n",
       "      <td>2013</td>\n",
       "      <td>0.37</td>\n",
       "      <td>0</td>\n",
       "      <td>V</td>\n",
       "      <td>V</td>\n",
       "      <td>V</td>\n",
       "      <td>U</td>\n",
       "      <td>790.00</td>\n",
       "      <td>1</td>\n",
       "      <td>1,960.00</td>\n",
       "      <td>.</td>\n",
       "      <td>3310</td>\n",
       "    </tr>\n",
       "  </tbody>\n",
       "</table>\n",
       "</div>"
      ],
      "text/plain": [
       "  Customer Id  YearOfObservation  Insured_Period  Residential  \\\n",
       "0      H11920               2013            1.00            0   \n",
       "1      H11921               2016            1.00            0   \n",
       "2       H9805               2013            0.37            0   \n",
       "\n",
       "  Building_Painted Building_Fenced Garden Settlement  Building Dimension  \\\n",
       "0                V               N      O          R              300.00   \n",
       "1                V               N      O          R              300.00   \n",
       "2                V               V      V          U              790.00   \n",
       "\n",
       "   Building_Type  Date_of_Occupancy NumberOfWindows Geo_Code  \n",
       "0              1           1,960.00               3     3310  \n",
       "1              1           1,960.00               3     3310  \n",
       "2              1           1,960.00               .     3310  "
      ]
     },
     "metadata": {},
     "output_type": "display_data"
    },
    {
     "data": {
      "text/html": [
       "<div>\n",
       "<style scoped>\n",
       "    .dataframe tbody tr th:only-of-type {\n",
       "        vertical-align: middle;\n",
       "    }\n",
       "\n",
       "    .dataframe tbody tr th {\n",
       "        vertical-align: top;\n",
       "    }\n",
       "\n",
       "    .dataframe thead th {\n",
       "        text-align: right;\n",
       "    }\n",
       "</style>\n",
       "<table border=\"1\" class=\"dataframe\">\n",
       "  <thead>\n",
       "    <tr style=\"text-align: right;\">\n",
       "      <th></th>\n",
       "      <th>Customer Id</th>\n",
       "      <th>YearOfObservation</th>\n",
       "      <th>Insured_Period</th>\n",
       "      <th>Residential</th>\n",
       "      <th>Building_Painted</th>\n",
       "      <th>Building_Fenced</th>\n",
       "      <th>Garden</th>\n",
       "      <th>Settlement</th>\n",
       "      <th>Building Dimension</th>\n",
       "      <th>Building_Type</th>\n",
       "      <th>Date_of_Occupancy</th>\n",
       "      <th>NumberOfWindows</th>\n",
       "      <th>Geo_Code</th>\n",
       "      <th>Claim</th>\n",
       "    </tr>\n",
       "  </thead>\n",
       "  <tbody>\n",
       "    <tr>\n",
       "      <th>7157</th>\n",
       "      <td>H6204</td>\n",
       "      <td>2016</td>\n",
       "      <td>0.04</td>\n",
       "      <td>0</td>\n",
       "      <td>V</td>\n",
       "      <td>V</td>\n",
       "      <td>V</td>\n",
       "      <td>U</td>\n",
       "      <td>nan</td>\n",
       "      <td>1</td>\n",
       "      <td>1,992.00</td>\n",
       "      <td>.</td>\n",
       "      <td>NaN</td>\n",
       "      <td>0</td>\n",
       "    </tr>\n",
       "    <tr>\n",
       "      <th>7158</th>\n",
       "      <td>H6537</td>\n",
       "      <td>2013</td>\n",
       "      <td>1.00</td>\n",
       "      <td>0</td>\n",
       "      <td>V</td>\n",
       "      <td>V</td>\n",
       "      <td>V</td>\n",
       "      <td>U</td>\n",
       "      <td>nan</td>\n",
       "      <td>1</td>\n",
       "      <td>1,972.00</td>\n",
       "      <td>.</td>\n",
       "      <td>NaN</td>\n",
       "      <td>0</td>\n",
       "    </tr>\n",
       "    <tr>\n",
       "      <th>7159</th>\n",
       "      <td>H7470</td>\n",
       "      <td>2014</td>\n",
       "      <td>1.00</td>\n",
       "      <td>0</td>\n",
       "      <td>V</td>\n",
       "      <td>V</td>\n",
       "      <td>V</td>\n",
       "      <td>U</td>\n",
       "      <td>nan</td>\n",
       "      <td>1</td>\n",
       "      <td>2,004.00</td>\n",
       "      <td>.</td>\n",
       "      <td>NaN</td>\n",
       "      <td>0</td>\n",
       "    </tr>\n",
       "  </tbody>\n",
       "</table>\n",
       "</div>"
      ],
      "text/plain": [
       "     Customer Id  YearOfObservation  Insured_Period  Residential  \\\n",
       "7157       H6204               2016            0.04            0   \n",
       "7158       H6537               2013            1.00            0   \n",
       "7159       H7470               2014            1.00            0   \n",
       "\n",
       "     Building_Painted Building_Fenced Garden Settlement  Building Dimension  \\\n",
       "7157                V               V      V          U                 nan   \n",
       "7158                V               V      V          U                 nan   \n",
       "7159                V               V      V          U                 nan   \n",
       "\n",
       "      Building_Type  Date_of_Occupancy NumberOfWindows Geo_Code  Claim  \n",
       "7157              1           1,992.00               .      NaN      0  \n",
       "7158              1           1,972.00               .      NaN      0  \n",
       "7159              1           2,004.00               .      NaN      0  "
      ]
     },
     "metadata": {},
     "output_type": "display_data"
    }
   ],
   "source": [
    "# Print First Few Rows Of The Data\n",
    "display(\"Train data\")\n",
    "display(train.head(3))\n",
    "display(train.tail(3))\n",
    "display(\"test data\")\n",
    "display(test.head(3))\n",
    "display(train.tail(3))"
   ]
  },
  {
   "cell_type": "markdown",
   "metadata": {},
   "source": [
    "### Data Exploration"
   ]
  },
  {
   "cell_type": "code",
   "execution_count": 6,
   "metadata": {},
   "outputs": [
    {
     "data": {
      "text/plain": [
       "'Train data'"
      ]
     },
     "metadata": {},
     "output_type": "display_data"
    },
    {
     "data": {
      "text/plain": [
       "Index(['Customer Id', 'YearOfObservation', 'Insured_Period', 'Residential',\n",
       "       'Building_Painted', 'Building_Fenced', 'Garden', 'Settlement',\n",
       "       'Building Dimension', 'Building_Type', 'Date_of_Occupancy',\n",
       "       'NumberOfWindows', 'Geo_Code', 'Claim'],\n",
       "      dtype='object')"
      ]
     },
     "metadata": {},
     "output_type": "display_data"
    },
    {
     "data": {
      "text/plain": [
       "'Test data'"
      ]
     },
     "metadata": {},
     "output_type": "display_data"
    },
    {
     "data": {
      "text/plain": [
       "Index(['Customer Id', 'YearOfObservation', 'Insured_Period', 'Residential',\n",
       "       'Building_Painted', 'Building_Fenced', 'Garden', 'Settlement',\n",
       "       'Building Dimension', 'Building_Type', 'Date_of_Occupancy',\n",
       "       'NumberOfWindows', 'Geo_Code'],\n",
       "      dtype='object')"
      ]
     },
     "metadata": {},
     "output_type": "display_data"
    }
   ],
   "source": [
    "#column/variable names\n",
    "display(\"Train data\")\n",
    "display(train.columns)\n",
    "display(\"Test data\")\n",
    "display(test.columns)"
   ]
  },
  {
   "cell_type": "code",
   "execution_count": 7,
   "metadata": {},
   "outputs": [
    {
     "data": {
      "text/plain": [
       "'Train data'"
      ]
     },
     "metadata": {},
     "output_type": "display_data"
    },
    {
     "data": {
      "text/plain": [
       "object     7\n",
       "int64      4\n",
       "float64    3\n",
       "dtype: int64"
      ]
     },
     "metadata": {},
     "output_type": "display_data"
    },
    {
     "data": {
      "text/plain": [
       "'test data'"
      ]
     },
     "metadata": {},
     "output_type": "display_data"
    },
    {
     "data": {
      "text/plain": [
       "object     7\n",
       "int64      3\n",
       "float64    3\n",
       "dtype: int64"
      ]
     },
     "metadata": {},
     "output_type": "display_data"
    }
   ],
   "source": [
    "#data types of columns/variables\n",
    "# Number of each type of column\n",
    "display(\"Train data\")\n",
    "display(train.dtypes.value_counts())\n",
    "display(\"test data\")\n",
    "display(test.dtypes.value_counts())"
   ]
  },
  {
   "cell_type": "markdown",
   "metadata": {},
   "source": [
    "### Structure of the data"
   ]
  },
  {
   "cell_type": "code",
   "execution_count": 8,
   "metadata": {},
   "outputs": [
    {
     "data": {
      "application/vnd.jupyter.widget-view+json": {
       "model_id": "042e9a70bcfe4e2aae976eb7b5389c82",
       "version_major": 2,
       "version_minor": 0
      },
      "text/plain": [
       "Summarize dataset:   0%|          | 0/27 [00:00<?, ?it/s]"
      ]
     },
     "metadata": {},
     "output_type": "display_data"
    },
    {
     "data": {
      "application/vnd.jupyter.widget-view+json": {
       "model_id": "ffe6ffbfc5364b74b1aabe1e8b8fca34",
       "version_major": 2,
       "version_minor": 0
      },
      "text/plain": [
       "Generate report structure:   0%|          | 0/1 [00:00<?, ?it/s]"
      ]
     },
     "metadata": {},
     "output_type": "display_data"
    },
    {
     "data": {
      "application/vnd.jupyter.widget-view+json": {
       "model_id": "c158ebab14b24883bf8bbd500aeb986f",
       "version_major": 2,
       "version_minor": 0
      },
      "text/plain": [
       "Render HTML:   0%|          | 0/1 [00:00<?, ?it/s]"
      ]
     },
     "metadata": {},
     "output_type": "display_data"
    },
    {
     "data": {
      "application/vnd.jupyter.widget-view+json": {
       "model_id": "eced8d7525d041658dfb48090b011fc4",
       "version_major": 2,
       "version_minor": 0
      },
      "text/plain": [
       "Export report to file:   0%|          | 0/1 [00:00<?, ?it/s]"
      ]
     },
     "metadata": {},
     "output_type": "display_data"
    },
    {
     "data": {
      "application/vnd.jupyter.widget-view+json": {
       "model_id": "f51c14f4fb3f4670a38c28c6b7810c2d",
       "version_major": 2,
       "version_minor": 0
      },
      "text/plain": [
       "Summarize dataset:   0%|          | 0/26 [00:00<?, ?it/s]"
      ]
     },
     "metadata": {},
     "output_type": "display_data"
    },
    {
     "data": {
      "application/vnd.jupyter.widget-view+json": {
       "model_id": "486fa78c108c413eab6dde3e640ae6e8",
       "version_major": 2,
       "version_minor": 0
      },
      "text/plain": [
       "Generate report structure:   0%|          | 0/1 [00:00<?, ?it/s]"
      ]
     },
     "metadata": {},
     "output_type": "display_data"
    },
    {
     "data": {
      "application/vnd.jupyter.widget-view+json": {
       "model_id": "0e0f20591d4c48e2938a54df8b58c5b3",
       "version_major": 2,
       "version_minor": 0
      },
      "text/plain": [
       "Render HTML:   0%|          | 0/1 [00:00<?, ?it/s]"
      ]
     },
     "metadata": {},
     "output_type": "display_data"
    },
    {
     "data": {
      "application/vnd.jupyter.widget-view+json": {
       "model_id": "8f557a0023d9424a85398f99de9af6d9",
       "version_major": 2,
       "version_minor": 0
      },
      "text/plain": [
       "Export report to file:   0%|          | 0/1 [00:00<?, ?it/s]"
      ]
     },
     "metadata": {},
     "output_type": "display_data"
    }
   ],
   "source": [
    "#train data pandas profiling\n",
    "from pandas_profiling import ProfileReport\n",
    "profile = ProfileReport(train)\n",
    "profile.to_file(output_file='Train_Profiling_Report.html')\n",
    "#\n",
    "#test data pandas profiling\n",
    "profile = ProfileReport(test)\n",
    "profile.to_file(output_file='Test_Profiling.html')"
   ]
  },
  {
   "cell_type": "markdown",
   "metadata": {},
   "source": [
    "## Merge Datasets"
   ]
  },
  {
   "cell_type": "markdown",
   "metadata": {},
   "source": [
    "Tag the train and test data separately with a set column/variable"
   ]
  },
  {
   "cell_type": "code",
   "execution_count": 9,
   "metadata": {},
   "outputs": [],
   "source": [
    "train['set'] = 'train'\n",
    "test['set'] = 'test'"
   ]
  },
  {
   "cell_type": "code",
   "execution_count": 10,
   "metadata": {},
   "outputs": [
    {
     "data": {
      "text/html": [
       "<div>\n",
       "<style scoped>\n",
       "    .dataframe tbody tr th:only-of-type {\n",
       "        vertical-align: middle;\n",
       "    }\n",
       "\n",
       "    .dataframe tbody tr th {\n",
       "        vertical-align: top;\n",
       "    }\n",
       "\n",
       "    .dataframe thead th {\n",
       "        text-align: right;\n",
       "    }\n",
       "</style>\n",
       "<table border=\"1\" class=\"dataframe\">\n",
       "  <thead>\n",
       "    <tr style=\"text-align: right;\">\n",
       "      <th></th>\n",
       "      <th>Customer Id</th>\n",
       "      <th>YearOfObservation</th>\n",
       "      <th>Insured_Period</th>\n",
       "      <th>Residential</th>\n",
       "      <th>Building_Painted</th>\n",
       "      <th>Building_Fenced</th>\n",
       "      <th>Garden</th>\n",
       "      <th>Settlement</th>\n",
       "      <th>Building Dimension</th>\n",
       "      <th>Building_Type</th>\n",
       "      <th>Date_of_Occupancy</th>\n",
       "      <th>NumberOfWindows</th>\n",
       "      <th>Geo_Code</th>\n",
       "      <th>Claim</th>\n",
       "      <th>set</th>\n",
       "    </tr>\n",
       "  </thead>\n",
       "  <tbody>\n",
       "    <tr>\n",
       "      <th>0</th>\n",
       "      <td>H14663</td>\n",
       "      <td>2013</td>\n",
       "      <td>1.00</td>\n",
       "      <td>0</td>\n",
       "      <td>N</td>\n",
       "      <td>V</td>\n",
       "      <td>V</td>\n",
       "      <td>U</td>\n",
       "      <td>290.00</td>\n",
       "      <td>1</td>\n",
       "      <td>1,960.00</td>\n",
       "      <td>.</td>\n",
       "      <td>1053</td>\n",
       "      <td>0.00</td>\n",
       "      <td>train</td>\n",
       "    </tr>\n",
       "    <tr>\n",
       "      <th>1</th>\n",
       "      <td>H2037</td>\n",
       "      <td>2015</td>\n",
       "      <td>1.00</td>\n",
       "      <td>0</td>\n",
       "      <td>V</td>\n",
       "      <td>N</td>\n",
       "      <td>O</td>\n",
       "      <td>R</td>\n",
       "      <td>490.00</td>\n",
       "      <td>1</td>\n",
       "      <td>1,850.00</td>\n",
       "      <td>4</td>\n",
       "      <td>1053</td>\n",
       "      <td>0.00</td>\n",
       "      <td>train</td>\n",
       "    </tr>\n",
       "    <tr>\n",
       "      <th>2</th>\n",
       "      <td>H3802</td>\n",
       "      <td>2014</td>\n",
       "      <td>1.00</td>\n",
       "      <td>0</td>\n",
       "      <td>N</td>\n",
       "      <td>V</td>\n",
       "      <td>V</td>\n",
       "      <td>U</td>\n",
       "      <td>595.00</td>\n",
       "      <td>1</td>\n",
       "      <td>1,960.00</td>\n",
       "      <td>.</td>\n",
       "      <td>1053</td>\n",
       "      <td>0.00</td>\n",
       "      <td>train</td>\n",
       "    </tr>\n",
       "  </tbody>\n",
       "</table>\n",
       "</div>"
      ],
      "text/plain": [
       "  Customer Id  YearOfObservation  Insured_Period  Residential  \\\n",
       "0      H14663               2013            1.00            0   \n",
       "1       H2037               2015            1.00            0   \n",
       "2       H3802               2014            1.00            0   \n",
       "\n",
       "  Building_Painted Building_Fenced Garden Settlement  Building Dimension  \\\n",
       "0                N               V      V          U              290.00   \n",
       "1                V               N      O          R              490.00   \n",
       "2                N               V      V          U              595.00   \n",
       "\n",
       "   Building_Type  Date_of_Occupancy NumberOfWindows Geo_Code  Claim    set  \n",
       "0              1           1,960.00               .     1053   0.00  train  \n",
       "1              1           1,850.00               4     1053   0.00  train  \n",
       "2              1           1,960.00               .     1053   0.00  train  "
      ]
     },
     "metadata": {},
     "output_type": "display_data"
    },
    {
     "data": {
      "text/html": [
       "<div>\n",
       "<style scoped>\n",
       "    .dataframe tbody tr th:only-of-type {\n",
       "        vertical-align: middle;\n",
       "    }\n",
       "\n",
       "    .dataframe tbody tr th {\n",
       "        vertical-align: top;\n",
       "    }\n",
       "\n",
       "    .dataframe thead th {\n",
       "        text-align: right;\n",
       "    }\n",
       "</style>\n",
       "<table border=\"1\" class=\"dataframe\">\n",
       "  <thead>\n",
       "    <tr style=\"text-align: right;\">\n",
       "      <th></th>\n",
       "      <th>Customer Id</th>\n",
       "      <th>YearOfObservation</th>\n",
       "      <th>Insured_Period</th>\n",
       "      <th>Residential</th>\n",
       "      <th>Building_Painted</th>\n",
       "      <th>Building_Fenced</th>\n",
       "      <th>Garden</th>\n",
       "      <th>Settlement</th>\n",
       "      <th>Building Dimension</th>\n",
       "      <th>Building_Type</th>\n",
       "      <th>Date_of_Occupancy</th>\n",
       "      <th>NumberOfWindows</th>\n",
       "      <th>Geo_Code</th>\n",
       "      <th>Claim</th>\n",
       "      <th>set</th>\n",
       "    </tr>\n",
       "  </thead>\n",
       "  <tbody>\n",
       "    <tr>\n",
       "      <th>3066</th>\n",
       "      <td>H11721</td>\n",
       "      <td>2012</td>\n",
       "      <td>1.00</td>\n",
       "      <td>0</td>\n",
       "      <td>V</td>\n",
       "      <td>V</td>\n",
       "      <td>V</td>\n",
       "      <td>U</td>\n",
       "      <td>nan</td>\n",
       "      <td>2</td>\n",
       "      <td>1,993.00</td>\n",
       "      <td>.</td>\n",
       "      <td>NaN</td>\n",
       "      <td>nan</td>\n",
       "      <td>test</td>\n",
       "    </tr>\n",
       "    <tr>\n",
       "      <th>3067</th>\n",
       "      <td>H12408</td>\n",
       "      <td>2013</td>\n",
       "      <td>1.00</td>\n",
       "      <td>0</td>\n",
       "      <td>V</td>\n",
       "      <td>V</td>\n",
       "      <td>V</td>\n",
       "      <td>U</td>\n",
       "      <td>nan</td>\n",
       "      <td>1</td>\n",
       "      <td>1,800.00</td>\n",
       "      <td>.</td>\n",
       "      <td>NaN</td>\n",
       "      <td>nan</td>\n",
       "      <td>test</td>\n",
       "    </tr>\n",
       "    <tr>\n",
       "      <th>3068</th>\n",
       "      <td>H9021</td>\n",
       "      <td>2012</td>\n",
       "      <td>1.00</td>\n",
       "      <td>0</td>\n",
       "      <td>V</td>\n",
       "      <td>V</td>\n",
       "      <td>V</td>\n",
       "      <td>U</td>\n",
       "      <td>nan</td>\n",
       "      <td>2</td>\n",
       "      <td>1,950.00</td>\n",
       "      <td>.</td>\n",
       "      <td>NaN</td>\n",
       "      <td>nan</td>\n",
       "      <td>test</td>\n",
       "    </tr>\n",
       "  </tbody>\n",
       "</table>\n",
       "</div>"
      ],
      "text/plain": [
       "     Customer Id  YearOfObservation  Insured_Period  Residential  \\\n",
       "3066      H11721               2012            1.00            0   \n",
       "3067      H12408               2013            1.00            0   \n",
       "3068       H9021               2012            1.00            0   \n",
       "\n",
       "     Building_Painted Building_Fenced Garden Settlement  Building Dimension  \\\n",
       "3066                V               V      V          U                 nan   \n",
       "3067                V               V      V          U                 nan   \n",
       "3068                V               V      V          U                 nan   \n",
       "\n",
       "      Building_Type  Date_of_Occupancy NumberOfWindows Geo_Code  Claim   set  \n",
       "3066              2           1,993.00               .      NaN    nan  test  \n",
       "3067              1           1,800.00               .      NaN    nan  test  \n",
       "3068              2           1,950.00               .      NaN    nan  test  "
      ]
     },
     "metadata": {},
     "output_type": "display_data"
    }
   ],
   "source": [
    "#merge the two sets of data for data analysis and visualization\n",
    "data = pd.concat([train,test])\n",
    "display(data.head(3))\n",
    "display(data.tail(3))"
   ]
  },
  {
   "cell_type": "code",
   "execution_count": 11,
   "metadata": {},
   "outputs": [
    {
     "data": {
      "image/png": "[encoded data removed]",
      "text/plain": [
       "<Figure size 864x360 with 2 Axes>"
      ]
     },
     "metadata": {},
     "output_type": "display_data"
    }
   ],
   "source": [
    "# Distribution of the target variable\n",
    "fig = plt.figure(figsize=(12, 5))\n",
    "plt.subplot(121)\n",
    "data[data['set'] == \"train\"][\"Claim\"].value_counts().plot.pie(autopct = \"%1.0f%%\",  colors = sns.color_palette(\"prism\",7),\n",
    "                                                                                    startangle = 60,\n",
    "                                                                                    labels=[\"claim\",\"no-claim\"],\n",
    "                                                                                    wedgeprops={\"linewidth\":2,\"edgecolor\":\"k\"},\n",
    "                                                                                    explode=[.1,0],shadow =True)\n",
    "plt.title(\"Distribution of claim variable\")\n",
    "\n",
    "plt.subplot(122)\n",
    "ax = data[data['set'] == \"train\"][\"Claim\"].value_counts().plot(kind=\"barh\")\n",
    "\n",
    "for i,j in enumerate(data[data['set'] == \"train\"][\"Claim\"].value_counts().values):\n",
    "    ax.text(.7,i,j,weight = \"bold\",fontsize=20)\n",
    "\n",
    "plt.title(\"Count of claim variable\")\n",
    "#ax.set_facecolor(\"k\")\n",
    "fig.set_facecolor(\"lightgrey\")\n",
    "plt.show()"
   ]
  },
  {
   "cell_type": "markdown",
   "metadata": {},
   "source": [
    "Percentage of missing values in the data"
   ]
  },
  {
   "cell_type": "code",
   "execution_count": 12,
   "metadata": {},
   "outputs": [
    {
     "data": {
      "image/png": "[encoded data removed]",
      "text/plain": [
       "<Figure size 864x720 with 4 Axes>"
      ]
     },
     "metadata": {},
     "output_type": "display_data"
    }
   ],
   "source": [
    "plt.figure(figsize=(12,10))\n",
    "\n",
    "plt.subplot(231)\n",
    "sns.heatmap(pd.DataFrame(train.isnull().sum()/train.shape[0]*100),annot=True,\n",
    "            cmap=sns.color_palette(\"cool\"),linewidth=1,linecolor=\"white\")\n",
    "plt.title(\"Train Data\")\n",
    "\n",
    "plt.subplot(232)\n",
    "sns.heatmap(pd.DataFrame(test.isnull().sum()/test.shape[0]*100),annot=True,\n",
    "            cmap=sns.color_palette(\"cool\"),linewidth=1,linecolor=\"white\")\n",
    "plt.title(\"Test Data\")\n",
    "\n",
    "plt.subplots_adjust(wspace = 1.6)"
   ]
  },
  {
   "cell_type": "markdown",
   "metadata": {},
   "source": [
    "## Feature Engineering"
   ]
  },
  {
   "cell_type": "code",
   "execution_count": 13,
   "metadata": {},
   "outputs": [],
   "source": [
    "data.drop_duplicates(subset=data.columns, keep='last', inplace=True)"
   ]
  },
  {
   "cell_type": "code",
   "execution_count": 14,
   "metadata": {},
   "outputs": [],
   "source": [
    "#renaming columns\n",
    "data.columns = data.columns.str.strip().str.lower().str.replace(' ','_')"
   ]
  },
  {
   "cell_type": "code",
   "execution_count": 15,
   "metadata": {
    "scrolled": false
   },
   "outputs": [
    {
     "data": {
      "text/html": [
       "<div>\n",
       "<style scoped>\n",
       "    .dataframe tbody tr th:only-of-type {\n",
       "        vertical-align: middle;\n",
       "    }\n",
       "\n",
       "    .dataframe tbody tr th {\n",
       "        vertical-align: top;\n",
       "    }\n",
       "\n",
       "    .dataframe thead th {\n",
       "        text-align: right;\n",
       "    }\n",
       "</style>\n",
       "<table border=\"1\" class=\"dataframe\">\n",
       "  <thead>\n",
       "    <tr style=\"text-align: right;\">\n",
       "      <th></th>\n",
       "      <th>customer_id</th>\n",
       "      <th>yearofobservation</th>\n",
       "      <th>insured_period</th>\n",
       "      <th>residential</th>\n",
       "      <th>building_painted</th>\n",
       "      <th>building_fenced</th>\n",
       "      <th>garden</th>\n",
       "      <th>settlement</th>\n",
       "      <th>building_dimension</th>\n",
       "      <th>building_type</th>\n",
       "      <th>date_of_occupancy</th>\n",
       "      <th>numberofwindows</th>\n",
       "      <th>geo_code</th>\n",
       "      <th>claim</th>\n",
       "      <th>set</th>\n",
       "    </tr>\n",
       "  </thead>\n",
       "  <tbody>\n",
       "    <tr>\n",
       "      <th>0</th>\n",
       "      <td>H14663</td>\n",
       "      <td>2013</td>\n",
       "      <td>1.00</td>\n",
       "      <td>0</td>\n",
       "      <td>N</td>\n",
       "      <td>V</td>\n",
       "      <td>V</td>\n",
       "      <td>U</td>\n",
       "      <td>290.00</td>\n",
       "      <td>1</td>\n",
       "      <td>1,960.00</td>\n",
       "      <td>.</td>\n",
       "      <td>1053</td>\n",
       "      <td>0.00</td>\n",
       "      <td>train</td>\n",
       "    </tr>\n",
       "    <tr>\n",
       "      <th>1</th>\n",
       "      <td>H2037</td>\n",
       "      <td>2015</td>\n",
       "      <td>1.00</td>\n",
       "      <td>0</td>\n",
       "      <td>V</td>\n",
       "      <td>N</td>\n",
       "      <td>O</td>\n",
       "      <td>R</td>\n",
       "      <td>490.00</td>\n",
       "      <td>1</td>\n",
       "      <td>1,850.00</td>\n",
       "      <td>4</td>\n",
       "      <td>1053</td>\n",
       "      <td>0.00</td>\n",
       "      <td>train</td>\n",
       "    </tr>\n",
       "    <tr>\n",
       "      <th>2</th>\n",
       "      <td>H3802</td>\n",
       "      <td>2014</td>\n",
       "      <td>1.00</td>\n",
       "      <td>0</td>\n",
       "      <td>N</td>\n",
       "      <td>V</td>\n",
       "      <td>V</td>\n",
       "      <td>U</td>\n",
       "      <td>595.00</td>\n",
       "      <td>1</td>\n",
       "      <td>1,960.00</td>\n",
       "      <td>.</td>\n",
       "      <td>1053</td>\n",
       "      <td>0.00</td>\n",
       "      <td>train</td>\n",
       "    </tr>\n",
       "  </tbody>\n",
       "</table>\n",
       "</div>"
      ],
      "text/plain": [
       "  customer_id  yearofobservation  insured_period  residential  \\\n",
       "0      H14663               2013            1.00            0   \n",
       "1       H2037               2015            1.00            0   \n",
       "2       H3802               2014            1.00            0   \n",
       "\n",
       "  building_painted building_fenced garden settlement  building_dimension  \\\n",
       "0                N               V      V          U              290.00   \n",
       "1                V               N      O          R              490.00   \n",
       "2                N               V      V          U              595.00   \n",
       "\n",
       "   building_type  date_of_occupancy numberofwindows geo_code  claim    set  \n",
       "0              1           1,960.00               .     1053   0.00  train  \n",
       "1              1           1,850.00               4     1053   0.00  train  \n",
       "2              1           1,960.00               .     1053   0.00  train  "
      ]
     },
     "execution_count": 15,
     "metadata": {},
     "output_type": "execute_result"
    }
   ],
   "source": [
    "data.head(3)"
   ]
  },
  {
   "cell_type": "code",
   "execution_count": 16,
   "metadata": {},
   "outputs": [
    {
     "data": {
      "text/plain": [
       "customer_id            object\n",
       "yearofobservation       int64\n",
       "insured_period        float64\n",
       "residential             int64\n",
       "building_painted       object\n",
       "building_fenced        object\n",
       "garden                 object\n",
       "settlement             object\n",
       "building_dimension    float64\n",
       "building_type           int64\n",
       "date_of_occupancy     float64\n",
       "numberofwindows        object\n",
       "geo_code               object\n",
       "claim                 float64\n",
       "set                    object\n",
       "dtype: object"
      ]
     },
     "execution_count": 16,
     "metadata": {},
     "output_type": "execute_result"
    }
   ],
   "source": [
    "data.dtypes"
   ]
  },
  {
   "cell_type": "markdown",
   "metadata": {},
   "source": [
    "### Numerical/Continuous Variables"
   ]
  },
  {
   "cell_type": "code",
   "execution_count": 17,
   "metadata": {},
   "outputs": [],
   "source": [
    "#define a function for treating outliers\n",
    "def treat_outlier(df, col):\n",
    "    Q1 = df[col].quantile(0.25)\n",
    "    Q3 = df[col].quantile(0.75)\n",
    "    IQR = Q3 - Q1\n",
    "    print('First quantile: ', Q1)\n",
    "    print('Third quantile: ', Q3)\n",
    "    print('IQR: ', IQR)\n",
    "    lower_bound = Q1 - 1.5*IQR\n",
    "    upper_bound = Q3 + 1.5*IQR\n",
    "    print('Lower bound: ', lower_bound, 'Upper bound: ', upper_bound)"
   ]
  },
  {
   "cell_type": "code",
   "execution_count": 18,
   "metadata": {},
   "outputs": [
    {
     "data": {
      "image/png": "[encoded data removed]",
      "text/plain": [
       "<Figure size 1152x864 with 6 Axes>"
      ]
     },
     "metadata": {},
     "output_type": "display_data"
    }
   ],
   "source": [
    "#checking for outliers using box plot\n",
    "col_names = ['yearofobservation', 'insured_period', 'residential', 'building_dimension', 'building_type', 'date_of_occupancy']\n",
    "fig, ax=plt.subplots(len(col_names), figsize=(16,12))\n",
    "for i, col_val in enumerate(col_names):\n",
    "    sns.boxplot(data[col_val], notch= True, ax=ax[i])\n",
    "    ax[i].set_title ('box plot-'+ col_val, fontsize= 15)\n",
    "    ax[i].set_xlabel(col_val, fontsize= 12)\n",
    "    ax[i].set_ylabel('Number', fontsize= 12)\n",
    "\n",
    "plt.show()  "
   ]
  },
  {
   "cell_type": "markdown",
   "metadata": {},
   "source": [
    "### 1. Year of Observation"
   ]
  },
  {
   "cell_type": "code",
   "execution_count": 19,
   "metadata": {},
   "outputs": [
    {
     "data": {
      "text/plain": [
       "array([2013, 2015, 2014, 2012, 2016], dtype=int64)"
      ]
     },
     "execution_count": 19,
     "metadata": {},
     "output_type": "execute_result"
    }
   ],
   "source": [
    "data['yearofobservation'].unique()"
   ]
  },
  {
   "cell_type": "code",
   "execution_count": 20,
   "metadata": {},
   "outputs": [],
   "source": [
    "data['yearofobservation'] = pd.to_datetime(data['yearofobservation'], format='%Y', yearfirst=True)"
   ]
  },
  {
   "cell_type": "markdown",
   "metadata": {},
   "source": [
    "### 2. Insured Period"
   ]
  },
  {
   "cell_type": "code",
   "execution_count": 21,
   "metadata": {},
   "outputs": [
    {
     "data": {
      "text/plain": [
       "1.00    8650\n",
       "0.00     233\n",
       "0.70     215\n",
       "0.20     196\n",
       "0.50     188\n",
       "0.80     158\n",
       "0.90     154\n",
       "0.30     122\n",
       "0.10     120\n",
       "0.60     100\n",
       "0.40      93\n",
       "Name: insured_period_round, dtype: int64"
      ]
     },
     "execution_count": 21,
     "metadata": {},
     "output_type": "execute_result"
    }
   ],
   "source": [
    "#Full year insurance, Policy Duration = 1; 6 months = 0.5\n",
    "data['insured_period_round'] = data['insured_period'].round(1)\n",
    "data.insured_period_round.value_counts()"
   ]
  },
  {
   "cell_type": "code",
   "execution_count": 22,
   "metadata": {},
   "outputs": [],
   "source": [
    "def month(x):\n",
    "    if x == 0.0:\n",
    "        return 1\n",
    "    elif x == 0.1:\n",
    "        return 2\n",
    "    elif x == 0.2:\n",
    "        return 3\n",
    "    elif x == 0.3:\n",
    "        return 4\n",
    "    elif x == 0.4:\n",
    "        return 5\n",
    "    elif x == 0.5:\n",
    "        return 6\n",
    "    elif x == 0.6:\n",
    "        return 7\n",
    "    elif x == 0.7:\n",
    "        return 8\n",
    "    elif x == 0.8:\n",
    "        return 9\n",
    "    elif x == 0.9:\n",
    "        return 10\n",
    "    else:\n",
    "        return 12"
   ]
  },
  {
   "cell_type": "code",
   "execution_count": 23,
   "metadata": {},
   "outputs": [
    {
     "data": {
      "text/html": [
       "<div>\n",
       "<style scoped>\n",
       "    .dataframe tbody tr th:only-of-type {\n",
       "        vertical-align: middle;\n",
       "    }\n",
       "\n",
       "    .dataframe tbody tr th {\n",
       "        vertical-align: top;\n",
       "    }\n",
       "\n",
       "    .dataframe thead th {\n",
       "        text-align: right;\n",
       "    }\n",
       "</style>\n",
       "<table border=\"1\" class=\"dataframe\">\n",
       "  <thead>\n",
       "    <tr style=\"text-align: right;\">\n",
       "      <th></th>\n",
       "      <th>customer_id</th>\n",
       "      <th>yearofobservation</th>\n",
       "      <th>insured_period</th>\n",
       "      <th>residential</th>\n",
       "      <th>building_painted</th>\n",
       "      <th>building_fenced</th>\n",
       "      <th>garden</th>\n",
       "      <th>settlement</th>\n",
       "      <th>building_dimension</th>\n",
       "      <th>building_type</th>\n",
       "      <th>date_of_occupancy</th>\n",
       "      <th>numberofwindows</th>\n",
       "      <th>geo_code</th>\n",
       "      <th>claim</th>\n",
       "      <th>set</th>\n",
       "      <th>insured_period_round</th>\n",
       "      <th>quarter</th>\n",
       "    </tr>\n",
       "  </thead>\n",
       "  <tbody>\n",
       "    <tr>\n",
       "      <th>0</th>\n",
       "      <td>H14663</td>\n",
       "      <td>2013-01-01</td>\n",
       "      <td>1.00</td>\n",
       "      <td>0</td>\n",
       "      <td>N</td>\n",
       "      <td>V</td>\n",
       "      <td>V</td>\n",
       "      <td>U</td>\n",
       "      <td>290.00</td>\n",
       "      <td>1</td>\n",
       "      <td>1,960.00</td>\n",
       "      <td>.</td>\n",
       "      <td>1053</td>\n",
       "      <td>0.00</td>\n",
       "      <td>train</td>\n",
       "      <td>12</td>\n",
       "      <td>Q4</td>\n",
       "    </tr>\n",
       "    <tr>\n",
       "      <th>1</th>\n",
       "      <td>H2037</td>\n",
       "      <td>2015-01-01</td>\n",
       "      <td>1.00</td>\n",
       "      <td>0</td>\n",
       "      <td>V</td>\n",
       "      <td>N</td>\n",
       "      <td>O</td>\n",
       "      <td>R</td>\n",
       "      <td>490.00</td>\n",
       "      <td>1</td>\n",
       "      <td>1,850.00</td>\n",
       "      <td>4</td>\n",
       "      <td>1053</td>\n",
       "      <td>0.00</td>\n",
       "      <td>train</td>\n",
       "      <td>12</td>\n",
       "      <td>Q4</td>\n",
       "    </tr>\n",
       "    <tr>\n",
       "      <th>2</th>\n",
       "      <td>H3802</td>\n",
       "      <td>2014-01-01</td>\n",
       "      <td>1.00</td>\n",
       "      <td>0</td>\n",
       "      <td>N</td>\n",
       "      <td>V</td>\n",
       "      <td>V</td>\n",
       "      <td>U</td>\n",
       "      <td>595.00</td>\n",
       "      <td>1</td>\n",
       "      <td>1,960.00</td>\n",
       "      <td>.</td>\n",
       "      <td>1053</td>\n",
       "      <td>0.00</td>\n",
       "      <td>train</td>\n",
       "      <td>12</td>\n",
       "      <td>Q4</td>\n",
       "    </tr>\n",
       "  </tbody>\n",
       "</table>\n",
       "</div>"
      ],
      "text/plain": [
       "  customer_id yearofobservation  insured_period  residential building_painted  \\\n",
       "0      H14663        2013-01-01            1.00            0                N   \n",
       "1       H2037        2015-01-01            1.00            0                V   \n",
       "2       H3802        2014-01-01            1.00            0                N   \n",
       "\n",
       "  building_fenced garden settlement  building_dimension  building_type  \\\n",
       "0               V      V          U              290.00              1   \n",
       "1               N      O          R              490.00              1   \n",
       "2               V      V          U              595.00              1   \n",
       "\n",
       "   date_of_occupancy numberofwindows geo_code  claim    set  \\\n",
       "0           1,960.00               .     1053   0.00  train   \n",
       "1           1,850.00               4     1053   0.00  train   \n",
       "2           1,960.00               .     1053   0.00  train   \n",
       "\n",
       "   insured_period_round quarter  \n",
       "0                    12      Q4  \n",
       "1                    12      Q4  \n",
       "2                    12      Q4  "
      ]
     },
     "execution_count": 23,
     "metadata": {},
     "output_type": "execute_result"
    }
   ],
   "source": [
    "data['insured_period_round'] = data['insured_period_round'].apply(month)\n",
    "#categorize insured period quarterly\n",
    "data['quarter'] = pd.cut(data.insured_period_round, [0,3,6,9,12], labels = ['Q1','Q2', 'Q3', 'Q4'])\n",
    "data.head(3)"
   ]
  },
  {
   "cell_type": "markdown",
   "metadata": {},
   "source": [
    "### 3. Building Dimension"
   ]
  },
  {
   "cell_type": "code",
   "execution_count": 24,
   "metadata": {
    "scrolled": true
   },
   "outputs": [
    {
     "name": "stdout",
     "output_type": "stream",
     "text": [
      "Null values: 0\n",
      "First quantile:  510.0\n",
      "Third quantile:  2167.0\n",
      "IQR:  1657.0\n",
      "Lower bound:  -1975.5 Upper bound:  4652.5\n"
     ]
    }
   ],
   "source": [
    "data['building_dimension'].fillna(round(data['building_dimension'].mean(), 2), inplace=True)\n",
    "print('Null values:', data['building_dimension'].isnull().sum())\n",
    "treat_outlier(data, 'building_dimension')"
   ]
  },
  {
   "cell_type": "code",
   "execution_count": 25,
   "metadata": {
    "scrolled": false
   },
   "outputs": [],
   "source": [
    "data = data[(data['building_dimension'] > -1975.5) & (data['building_dimension'] < 4652.5)]"
   ]
  },
  {
   "cell_type": "code",
   "execution_count": 26,
   "metadata": {
    "scrolled": true
   },
   "outputs": [],
   "source": [
    "#scale the building dimension variable\n",
    "from sklearn.preprocessing import MinMaxScaler\n",
    "scaler = MinMaxScaler()\n",
    "scaled_dim = scaler.fit_transform(data[['building_dimension']]) #numpy array"
   ]
  },
  {
   "cell_type": "code",
   "execution_count": 27,
   "metadata": {
    "scrolled": false
   },
   "outputs": [
    {
     "data": {
      "text/html": [
       "<div>\n",
       "<style scoped>\n",
       "    .dataframe tbody tr th:only-of-type {\n",
       "        vertical-align: middle;\n",
       "    }\n",
       "\n",
       "    .dataframe tbody tr th {\n",
       "        vertical-align: top;\n",
       "    }\n",
       "\n",
       "    .dataframe thead th {\n",
       "        text-align: right;\n",
       "    }\n",
       "</style>\n",
       "<table border=\"1\" class=\"dataframe\">\n",
       "  <thead>\n",
       "    <tr style=\"text-align: right;\">\n",
       "      <th></th>\n",
       "      <th>customer_id</th>\n",
       "      <th>yearofobservation</th>\n",
       "      <th>insured_period</th>\n",
       "      <th>residential</th>\n",
       "      <th>building_painted</th>\n",
       "      <th>building_fenced</th>\n",
       "      <th>garden</th>\n",
       "      <th>settlement</th>\n",
       "      <th>building_dimension</th>\n",
       "      <th>building_type</th>\n",
       "      <th>date_of_occupancy</th>\n",
       "      <th>numberofwindows</th>\n",
       "      <th>geo_code</th>\n",
       "      <th>claim</th>\n",
       "      <th>set</th>\n",
       "      <th>insured_period_round</th>\n",
       "      <th>quarter</th>\n",
       "      <th>scaled_building_dim</th>\n",
       "    </tr>\n",
       "  </thead>\n",
       "  <tbody>\n",
       "    <tr>\n",
       "      <th>0</th>\n",
       "      <td>H14663</td>\n",
       "      <td>2013-01-01</td>\n",
       "      <td>1.00</td>\n",
       "      <td>0</td>\n",
       "      <td>N</td>\n",
       "      <td>V</td>\n",
       "      <td>V</td>\n",
       "      <td>U</td>\n",
       "      <td>290.00</td>\n",
       "      <td>1</td>\n",
       "      <td>1,960.00</td>\n",
       "      <td>.</td>\n",
       "      <td>1053</td>\n",
       "      <td>0.00</td>\n",
       "      <td>train</td>\n",
       "      <td>12</td>\n",
       "      <td>Q4</td>\n",
       "      <td>0.06</td>\n",
       "    </tr>\n",
       "    <tr>\n",
       "      <th>1</th>\n",
       "      <td>H2037</td>\n",
       "      <td>2015-01-01</td>\n",
       "      <td>1.00</td>\n",
       "      <td>0</td>\n",
       "      <td>V</td>\n",
       "      <td>N</td>\n",
       "      <td>O</td>\n",
       "      <td>R</td>\n",
       "      <td>490.00</td>\n",
       "      <td>1</td>\n",
       "      <td>1,850.00</td>\n",
       "      <td>4</td>\n",
       "      <td>1053</td>\n",
       "      <td>0.00</td>\n",
       "      <td>train</td>\n",
       "      <td>12</td>\n",
       "      <td>Q4</td>\n",
       "      <td>0.11</td>\n",
       "    </tr>\n",
       "    <tr>\n",
       "      <th>2</th>\n",
       "      <td>H3802</td>\n",
       "      <td>2014-01-01</td>\n",
       "      <td>1.00</td>\n",
       "      <td>0</td>\n",
       "      <td>N</td>\n",
       "      <td>V</td>\n",
       "      <td>V</td>\n",
       "      <td>U</td>\n",
       "      <td>595.00</td>\n",
       "      <td>1</td>\n",
       "      <td>1,960.00</td>\n",
       "      <td>.</td>\n",
       "      <td>1053</td>\n",
       "      <td>0.00</td>\n",
       "      <td>train</td>\n",
       "      <td>12</td>\n",
       "      <td>Q4</td>\n",
       "      <td>0.13</td>\n",
       "    </tr>\n",
       "  </tbody>\n",
       "</table>\n",
       "</div>"
      ],
      "text/plain": [
       "  customer_id yearofobservation  insured_period  residential building_painted  \\\n",
       "0      H14663        2013-01-01            1.00            0                N   \n",
       "1       H2037        2015-01-01            1.00            0                V   \n",
       "2       H3802        2014-01-01            1.00            0                N   \n",
       "\n",
       "  building_fenced garden settlement  building_dimension  building_type  \\\n",
       "0               V      V          U              290.00              1   \n",
       "1               N      O          R              490.00              1   \n",
       "2               V      V          U              595.00              1   \n",
       "\n",
       "   date_of_occupancy numberofwindows geo_code  claim    set  \\\n",
       "0           1,960.00               .     1053   0.00  train   \n",
       "1           1,850.00               4     1053   0.00  train   \n",
       "2           1,960.00               .     1053   0.00  train   \n",
       "\n",
       "   insured_period_round quarter  scaled_building_dim  \n",
       "0                    12      Q4                 0.06  \n",
       "1                    12      Q4                 0.11  \n",
       "2                    12      Q4                 0.13  "
      ]
     },
     "execution_count": 27,
     "metadata": {},
     "output_type": "execute_result"
    }
   ],
   "source": [
    "data = pd.concat([data.reset_index(drop = True), pd.DataFrame(scaled_dim, columns = ['scaled_building_dim'])], axis = 1)\n",
    "data.head(3)"
   ]
  },
  {
   "cell_type": "code",
   "execution_count": 28,
   "metadata": {},
   "outputs": [
    {
     "data": {
      "image/png": "[encoded data removed]",
      "text/plain": [
       "<Figure size 864x288 with 2 Axes>"
      ]
     },
     "metadata": {},
     "output_type": "display_data"
    }
   ],
   "source": [
    "fig, ax = plt.subplots(1, 2, figsize=(12, 4))\n",
    "#\n",
    "data[data['claim'] == 1].scaled_building_dim.plot.hist(ax=ax[0], bins=20, edgecolor='black', color='green')\n",
    "ax[0].set_title('Claim over insured period')\n",
    "#\n",
    "data[data['claim'] == 0].scaled_building_dim.plot.hist(ax=ax[1], color='red', bins=20, edgecolor='black')\n",
    "ax[1].set_title('No claim over insured period')\n",
    "#\n",
    "fig.set_facecolor(\"lightgrey\")\n",
    "plt.show()"
   ]
  },
  {
   "cell_type": "markdown",
   "metadata": {},
   "source": [
    "### 4. Residential"
   ]
  },
  {
   "cell_type": "code",
   "execution_count": 29,
   "metadata": {},
   "outputs": [
    {
     "data": {
      "text/plain": [
       "array([0, 1], dtype=int64)"
      ]
     },
     "execution_count": 29,
     "metadata": {},
     "output_type": "execute_result"
    }
   ],
   "source": [
    "data['residential'].unique()"
   ]
  },
  {
   "cell_type": "markdown",
   "metadata": {},
   "source": [
    "### 5. Building Type"
   ]
  },
  {
   "cell_type": "code",
   "execution_count": 30,
   "metadata": {},
   "outputs": [
    {
     "data": {
      "text/plain": [
       "array([1, 2, 4, 3], dtype=int64)"
      ]
     },
     "execution_count": 30,
     "metadata": {},
     "output_type": "execute_result"
    }
   ],
   "source": [
    "data['building_type'].unique()"
   ]
  },
  {
   "cell_type": "markdown",
   "metadata": {},
   "source": [
    "### 6. Date of Occupancy"
   ]
  },
  {
   "cell_type": "code",
   "execution_count": 31,
   "metadata": {},
   "outputs": [
    {
     "name": "stdout",
     "output_type": "stream",
     "text": [
      "Null values: 0\n",
      "First quantile:  1960.0\n",
      "Third quantile:  1980.0\n",
      "IQR:  20.0\n",
      "Lower bound:  1930.0 Upper bound:  2010.0\n"
     ]
    }
   ],
   "source": [
    "data['date_of_occupancy'].fillna(data['date_of_occupancy'].median(), inplace=True)\n",
    "print('Null values:', data['date_of_occupancy'].isnull().sum())\n",
    "treat_outlier(data, 'date_of_occupancy')"
   ]
  },
  {
   "cell_type": "code",
   "execution_count": 32,
   "metadata": {},
   "outputs": [
    {
     "data": {
      "text/plain": [
       "array([1960, 1980, 1988, 2007, 1970, 1950, 1940, 1982, 1972, 1971, 1995,\n",
       "       2006, 1999, 1985, 1965, 1981, 1975, 1997, 2003, 1990, 1973, 1991,\n",
       "       1974, 1967, 1957, 1978, 2009, 1949, 1951, 2008, 2000, 1962, 1956,\n",
       "       1983, 1954, 1968, 2004, 1936, 1953, 1979, 1946, 1955, 2001, 1976,\n",
       "       1961, 1964, 1984, 1958, 2002, 1986, 1993, 1992, 1977, 2005, 1945,\n",
       "       1942, 1939, 1934, 1998, 1987, 1938, 1959, 1966, 1989, 1996, 1963,\n",
       "       1948, 1952, 1969, 1994, 1937, 1931, 1935, 1947])"
      ]
     },
     "execution_count": 32,
     "metadata": {},
     "output_type": "execute_result"
    }
   ],
   "source": [
    "data[(data['date_of_occupancy'] > 1930.0) & (data['date_of_occupancy'] < 2010.0)]['date_of_occupancy'].unique().astype('int')"
   ]
  },
  {
   "cell_type": "code",
   "execution_count": 33,
   "metadata": {},
   "outputs": [],
   "source": [
    "data = data[(data['date_of_occupancy'] > 1930.0) & (data['date_of_occupancy'] < 2010.0)]\n",
    "data['date_of_occupancy'] = pd.to_datetime(data['date_of_occupancy'].astype('int'), format='%Y', yearfirst=True)\n",
    "data = data.reset_index(drop = True)"
   ]
  },
  {
   "cell_type": "code",
   "execution_count": 34,
   "metadata": {
    "scrolled": false
   },
   "outputs": [],
   "source": [
    "#number of active years\n",
    "data['year_of_observation'] = data['yearofobservation'].dt.year\n",
    "data['year_of_occupancy'] = data['date_of_occupancy'].dt.year\n",
    "#\n",
    "data['years_active'] = data['yearofobservation'].dt.year - data['date_of_occupancy'].dt.year"
   ]
  },
  {
   "cell_type": "code",
   "execution_count": 35,
   "metadata": {},
   "outputs": [
    {
     "data": {
      "text/plain": [
       "array([53, 54, 32, 24, 52,  5, 26, 27, 45, 46, 66, 42, 36, 76, 62, 31, 56,\n",
       "       44, 34, 25, 33, 35, 43, 19,  6,  7, 28, 16, 55, 30, 41, 51, 64, 72,\n",
       "       15, 13, 23, 48, 75, 21, 39, 50, 73, 63, 47, 59,  3,  4, 37, 40, 65,\n",
       "       58, 38, 10, 60, 22,  9, 11, 80, 61, 74, 70, 20, 29, 14, 12, 17, 57,\n",
       "       18, 69, 71, 49, 67, 82, 78,  8, 68, 77, 79, 81], dtype=int64)"
      ]
     },
     "execution_count": 35,
     "metadata": {},
     "output_type": "execute_result"
    }
   ],
   "source": [
    "data['years_active'].unique()"
   ]
  },
  {
   "cell_type": "code",
   "execution_count": 36,
   "metadata": {},
   "outputs": [],
   "source": [
    "#encode the year columns/variables by their frequency codes\n",
    "int_cols = ['year_of_observation', 'year_of_occupancy', 'years_active']\n",
    "#\n",
    "for col in int_cols:\n",
    "    freq = data[col].value_counts().to_dict()\n",
    "    data[col + '_freq_encode'] = data[col].map(freq)"
   ]
  },
  {
   "cell_type": "code",
   "execution_count": 37,
   "metadata": {},
   "outputs": [],
   "source": [
    "#categorize (Coarse classify) years active in terms of decades ie D1(3,12]->1-12, D2(12,22]->13-22, ...\n",
    "data['decades_active'] = pd.cut(data.years_active, [3,12,22,32,42,52,62,72,82], \n",
    "                             labels = ['D1','D2', 'D3', 'D4', 'D5', 'D6', 'D7', 'D8'])"
   ]
  },
  {
   "cell_type": "markdown",
   "metadata": {},
   "source": [
    "### 7. Number of Windows"
   ]
  },
  {
   "cell_type": "code",
   "execution_count": 38,
   "metadata": {
    "scrolled": false
   },
   "outputs": [
    {
     "data": {
      "text/plain": [
       "array(['   .', '3', '4', '5', '2', '6', '>=10', '9', '7', '8', '1'],\n",
       "      dtype=object)"
      ]
     },
     "execution_count": 38,
     "metadata": {},
     "output_type": "execute_result"
    }
   ],
   "source": [
    "data['numberofwindows'].unique()"
   ]
  },
  {
   "cell_type": "code",
   "execution_count": 39,
   "metadata": {},
   "outputs": [],
   "source": [
    "#bin the number of windows to three categories (0-4), (5-9), (10>=)\n",
    "#data['numberofwindows'] = data['numberofwindows'].str.replace({'   .': '0-4',\n",
    "#                                                               '2': '0-4',\n",
    "#                                                              '1': '0-4',\n",
    "#                                                               '3': '0-4',\n",
    "#                                                               '4': '0-4',\n",
    "#                                                               '5': '5-9',\n",
    "#                                                               '6': '5-9',\n",
    "#                                                               '7': '5-9',\n",
    "#                                                               '8': '5-9',\n",
    "#                                                               '9': '5-9'})\n",
    "#data['numberofwindows'] = [['0-4', '5-9', '>=10']]\n",
    "#display(data.head(3))"
   ]
  },
  {
   "cell_type": "markdown",
   "metadata": {},
   "source": [
    "## Categorical variables"
   ]
  },
  {
   "cell_type": "code",
   "execution_count": 40,
   "metadata": {
    "scrolled": true
   },
   "outputs": [
    {
     "data": {
      "text/plain": [
       "Index(['customer_id', 'yearofobservation', 'insured_period', 'residential',\n",
       "       'building_painted', 'building_fenced', 'garden', 'settlement',\n",
       "       'building_dimension', 'building_type', 'date_of_occupancy',\n",
       "       'numberofwindows', 'geo_code', 'claim', 'set', 'insured_period_round',\n",
       "       'quarter', 'scaled_building_dim', 'year_of_observation',\n",
       "       'year_of_occupancy', 'years_active', 'year_of_observation_freq_encode',\n",
       "       'year_of_occupancy_freq_encode', 'years_active_freq_encode',\n",
       "       'decades_active'],\n",
       "      dtype='object')"
      ]
     },
     "execution_count": 40,
     "metadata": {},
     "output_type": "execute_result"
    }
   ],
   "source": [
    "data.columns"
   ]
  },
  {
   "cell_type": "markdown",
   "metadata": {},
   "source": [
    "Creating dummy variables"
   ]
  },
  {
   "cell_type": "code",
   "execution_count": 41,
   "metadata": {},
   "outputs": [],
   "source": [
    "# function to automate categorical plots\n",
    "def cat_plot(var, x_label_rotation=0):\n",
    "    fig, ax = plt.subplots(1, 2, figsize=(12, 4))\n",
    "    fig.set_size_inches(20,5)\n",
    "    #\n",
    "    sns.countplot(x=var, data=data[data['claim'] == 1])\n",
    "    ax[0].set_xlabel(var, fontsize=20)\n",
    "    ax[0].set_ylabel('value counts', fontsize=20)\n",
    "    ax[0].set_title('Claim over insured period for ' + var, fontsize=20)\n",
    "    ax[0].set_xticklabels(ax[0].get_xticklabels(), rotation=x_label_rotation)\n",
    "    #\n",
    "    sns.countplot(x=var, data=data[data['claim'] == 0])\n",
    "    ax[1].set_xlabel(var, fontsize=20)\n",
    "    ax[1].set_ylabel('value counts', fontsize=20)\n",
    "    ax[1].set_title('No claim over insured period for ' + var, fontsize=20)\n",
    "    ax[1].set_xticklabels(ax[1].get_xticklabels(), rotation=x_label_rotation)"
   ]
  },
  {
   "cell_type": "markdown",
   "metadata": {},
   "source": [
    "### 1. Building Painted"
   ]
  },
  {
   "cell_type": "code",
   "execution_count": 42,
   "metadata": {},
   "outputs": [
    {
     "data": {
      "text/plain": [
       "V    5143\n",
       "N    3003\n",
       "Name: building_painted, dtype: int64"
      ]
     },
     "execution_count": 42,
     "metadata": {},
     "output_type": "execute_result"
    }
   ],
   "source": [
    "data.building_painted.value_counts()"
   ]
  },
  {
   "cell_type": "code",
   "execution_count": 43,
   "metadata": {},
   "outputs": [
    {
     "data": {
      "image/png": "[encoded data removed]",
      "text/plain": [
       "<Figure size 1440x360 with 2 Axes>"
      ]
     },
     "metadata": {},
     "output_type": "display_data"
    }
   ],
   "source": [
    "cat_plot('building_painted')"
   ]
  },
  {
   "cell_type": "code",
   "execution_count": 44,
   "metadata": {},
   "outputs": [
    {
     "data": {
      "text/plain": [
       "building_painted  claim\n",
       "N                 0.00     1363\n",
       "                  1.00      327\n",
       "V                 0.00     3010\n",
       "                  1.00      772\n",
       "Name: claim, dtype: int64"
      ]
     },
     "execution_count": 44,
     "metadata": {},
     "output_type": "execute_result"
    }
   ],
   "source": [
    "data.groupby(['building_painted'])['claim'].value_counts()"
   ]
  },
  {
   "cell_type": "code",
   "execution_count": 45,
   "metadata": {},
   "outputs": [],
   "source": [
    "data['building_painted'] = data.building_painted.replace({'N': 1, 'V': 0})"
   ]
  },
  {
   "cell_type": "markdown",
   "metadata": {},
   "source": [
    "### 2. Building Fenced"
   ]
  },
  {
   "cell_type": "code",
   "execution_count": 46,
   "metadata": {},
   "outputs": [
    {
     "data": {
      "text/plain": [
       "V    5430\n",
       "N    2716\n",
       "Name: building_fenced, dtype: int64"
      ]
     },
     "execution_count": 46,
     "metadata": {},
     "output_type": "execute_result"
    }
   ],
   "source": [
    "data.building_fenced.value_counts()"
   ]
  },
  {
   "cell_type": "code",
   "execution_count": 47,
   "metadata": {},
   "outputs": [
    {
     "data": {
      "image/png": "[encoded data removed]",
      "text/plain": [
       "<Figure size 1440x360 with 2 Axes>"
      ]
     },
     "metadata": {},
     "output_type": "display_data"
    }
   ],
   "source": [
    "cat_plot('building_fenced')"
   ]
  },
  {
   "cell_type": "code",
   "execution_count": 48,
   "metadata": {},
   "outputs": [
    {
     "data": {
      "text/plain": [
       "building_fenced  claim\n",
       "N                0.00     1678\n",
       "                 1.00      472\n",
       "V                0.00     2695\n",
       "                 1.00      627\n",
       "Name: claim, dtype: int64"
      ]
     },
     "execution_count": 48,
     "metadata": {},
     "output_type": "execute_result"
    }
   ],
   "source": [
    "data.groupby(['building_fenced'])['claim'].value_counts()"
   ]
  },
  {
   "cell_type": "code",
   "execution_count": 49,
   "metadata": {},
   "outputs": [],
   "source": [
    "data['building_fenced'] = data.building_fenced.replace({'N': 1, 'V': 0})"
   ]
  },
  {
   "cell_type": "markdown",
   "metadata": {},
   "source": [
    "### 3. Garden"
   ]
  },
  {
   "cell_type": "code",
   "execution_count": 50,
   "metadata": {},
   "outputs": [
    {
     "data": {
      "text/plain": [
       "V    5429\n",
       "O    2708\n",
       "Name: garden, dtype: int64"
      ]
     },
     "execution_count": 50,
     "metadata": {},
     "output_type": "execute_result"
    }
   ],
   "source": [
    "data.garden.value_counts()"
   ]
  },
  {
   "cell_type": "code",
   "execution_count": 51,
   "metadata": {},
   "outputs": [
    {
     "data": {
      "text/plain": [
       "garden  claim\n",
       "O       0.00     1674\n",
       "        1.00      472\n",
       "V       0.00     2695\n",
       "        1.00      626\n",
       "Name: claim, dtype: int64"
      ]
     },
     "execution_count": 51,
     "metadata": {},
     "output_type": "execute_result"
    }
   ],
   "source": [
    "data.groupby(['garden'])['claim'].value_counts()"
   ]
  },
  {
   "cell_type": "code",
   "execution_count": 52,
   "metadata": {
    "scrolled": true
   },
   "outputs": [
    {
     "data": {
      "text/plain": [
       "9"
      ]
     },
     "execution_count": 52,
     "metadata": {},
     "output_type": "execute_result"
    }
   ],
   "source": [
    "data.garden.isnull().sum()"
   ]
  },
  {
   "cell_type": "code",
   "execution_count": 53,
   "metadata": {},
   "outputs": [],
   "source": [
    "data['garden'].fillna(0, inplace=True)"
   ]
  },
  {
   "cell_type": "code",
   "execution_count": 54,
   "metadata": {},
   "outputs": [
    {
     "data": {
      "image/png": "[encoded data removed]",
      "text/plain": [
       "<Figure size 1440x360 with 2 Axes>"
      ]
     },
     "metadata": {},
     "output_type": "display_data"
    }
   ],
   "source": [
    "cat_plot('garden')"
   ]
  },
  {
   "cell_type": "code",
   "execution_count": 55,
   "metadata": {},
   "outputs": [],
   "source": [
    "data['garden'] = data.garden.replace({'V': 1, 'O': 0})"
   ]
  },
  {
   "cell_type": "markdown",
   "metadata": {},
   "source": [
    "### 4. Settlement"
   ]
  },
  {
   "cell_type": "code",
   "execution_count": 56,
   "metadata": {},
   "outputs": [
    {
     "data": {
      "text/plain": [
       "U    5428\n",
       "R    2718\n",
       "Name: settlement, dtype: int64"
      ]
     },
     "execution_count": 56,
     "metadata": {},
     "output_type": "execute_result"
    }
   ],
   "source": [
    "data.settlement.value_counts()"
   ]
  },
  {
   "cell_type": "code",
   "execution_count": 57,
   "metadata": {},
   "outputs": [
    {
     "data": {
      "text/plain": [
       "settlement  claim\n",
       "R           0.00     1679\n",
       "            1.00      473\n",
       "U           0.00     2694\n",
       "            1.00      626\n",
       "Name: claim, dtype: int64"
      ]
     },
     "execution_count": 57,
     "metadata": {},
     "output_type": "execute_result"
    }
   ],
   "source": [
    "data.groupby(['settlement'])['claim'].value_counts()"
   ]
  },
  {
   "cell_type": "code",
   "execution_count": 58,
   "metadata": {},
   "outputs": [
    {
     "data": {
      "image/png": "[encoded data removed]",
      "text/plain": [
       "<Figure size 1440x360 with 2 Axes>"
      ]
     },
     "metadata": {},
     "output_type": "display_data"
    }
   ],
   "source": [
    "cat_plot('settlement')"
   ]
  },
  {
   "cell_type": "code",
   "execution_count": 59,
   "metadata": {},
   "outputs": [],
   "source": [
    "data['settlement'] = data.settlement.replace({'R': 1, 'U': 0})"
   ]
  },
  {
   "cell_type": "markdown",
   "metadata": {},
   "source": [
    "### Dummify categorial variables"
   ]
  },
  {
   "cell_type": "code",
   "execution_count": 60,
   "metadata": {},
   "outputs": [],
   "source": [
    "#Dummify the variables\n",
    "data = pd.get_dummies(data, columns=['building_type', 'quarter', 'decades_active'], \n",
    "                      drop_first=True, prefix=['building_type', 'quarter', 'decades_active'])\n",
    "#\n",
    "#rename claim\n",
    "data.rename(columns={'claim': 'target'}, inplace=True)\n",
    "#\n",
    "#remove the\n",
    "columns = ['yearofobservation', 'building_dimension', 'date_of_occupancy', 'numberofwindows', 'geo_code']\n",
    "data.drop(columns, inplace=True, axis=1)"
   ]
  },
  {
   "cell_type": "code",
   "execution_count": 61,
   "metadata": {},
   "outputs": [],
   "source": [
    "train = data[data['set'] == 'train']\n",
    "test = data[data['set'] == 'test']"
   ]
  },
  {
   "cell_type": "code",
   "execution_count": 62,
   "metadata": {},
   "outputs": [],
   "source": [
    "train.drop(['set'], inplace=True, axis=1)\n",
    "train.reset_index(drop = True, inplace=True)\n",
    "#\n",
    "test.drop(['target', 'set'], inplace=True, axis=1)\n",
    "test.reset_index(drop = True, inplace=True)"
   ]
  },
  {
   "cell_type": "code",
   "execution_count": 63,
   "metadata": {},
   "outputs": [
    {
     "data": {
      "text/plain": [
       "'Train data'"
      ]
     },
     "metadata": {},
     "output_type": "display_data"
    },
    {
     "name": "stdout",
     "output_type": "stream",
     "text": [
      "Dimensins:  (5472, 29)\n"
     ]
    },
    {
     "data": {
      "text/html": [
       "<div>\n",
       "<style scoped>\n",
       "    .dataframe tbody tr th:only-of-type {\n",
       "        vertical-align: middle;\n",
       "    }\n",
       "\n",
       "    .dataframe tbody tr th {\n",
       "        vertical-align: top;\n",
       "    }\n",
       "\n",
       "    .dataframe thead th {\n",
       "        text-align: right;\n",
       "    }\n",
       "</style>\n",
       "<table border=\"1\" class=\"dataframe\">\n",
       "  <thead>\n",
       "    <tr style=\"text-align: right;\">\n",
       "      <th></th>\n",
       "      <th>customer_id</th>\n",
       "      <th>insured_period</th>\n",
       "      <th>residential</th>\n",
       "      <th>building_painted</th>\n",
       "      <th>building_fenced</th>\n",
       "      <th>garden</th>\n",
       "      <th>settlement</th>\n",
       "      <th>target</th>\n",
       "      <th>insured_period_round</th>\n",
       "      <th>scaled_building_dim</th>\n",
       "      <th>year_of_observation</th>\n",
       "      <th>year_of_occupancy</th>\n",
       "      <th>years_active</th>\n",
       "      <th>year_of_observation_freq_encode</th>\n",
       "      <th>year_of_occupancy_freq_encode</th>\n",
       "      <th>years_active_freq_encode</th>\n",
       "      <th>building_type_2</th>\n",
       "      <th>building_type_3</th>\n",
       "      <th>building_type_4</th>\n",
       "      <th>quarter_Q2</th>\n",
       "      <th>quarter_Q3</th>\n",
       "      <th>quarter_Q4</th>\n",
       "      <th>decades_active_D2</th>\n",
       "      <th>decades_active_D3</th>\n",
       "      <th>decades_active_D4</th>\n",
       "      <th>decades_active_D5</th>\n",
       "      <th>decades_active_D6</th>\n",
       "      <th>decades_active_D7</th>\n",
       "      <th>decades_active_D8</th>\n",
       "    </tr>\n",
       "  </thead>\n",
       "  <tbody>\n",
       "    <tr>\n",
       "      <th>0</th>\n",
       "      <td>H14663</td>\n",
       "      <td>1.00</td>\n",
       "      <td>0</td>\n",
       "      <td>1</td>\n",
       "      <td>0</td>\n",
       "      <td>1</td>\n",
       "      <td>0</td>\n",
       "      <td>0.00</td>\n",
       "      <td>12</td>\n",
       "      <td>0.06</td>\n",
       "      <td>2013</td>\n",
       "      <td>1960</td>\n",
       "      <td>53</td>\n",
       "      <td>2093</td>\n",
       "      <td>3733</td>\n",
       "      <td>989</td>\n",
       "      <td>0</td>\n",
       "      <td>0</td>\n",
       "      <td>0</td>\n",
       "      <td>0</td>\n",
       "      <td>0</td>\n",
       "      <td>1</td>\n",
       "      <td>0</td>\n",
       "      <td>0</td>\n",
       "      <td>0</td>\n",
       "      <td>0</td>\n",
       "      <td>1</td>\n",
       "      <td>0</td>\n",
       "      <td>0</td>\n",
       "    </tr>\n",
       "    <tr>\n",
       "      <th>1</th>\n",
       "      <td>H3802</td>\n",
       "      <td>1.00</td>\n",
       "      <td>0</td>\n",
       "      <td>1</td>\n",
       "      <td>0</td>\n",
       "      <td>1</td>\n",
       "      <td>0</td>\n",
       "      <td>0.00</td>\n",
       "      <td>12</td>\n",
       "      <td>0.13</td>\n",
       "      <td>2014</td>\n",
       "      <td>1960</td>\n",
       "      <td>54</td>\n",
       "      <td>1517</td>\n",
       "      <td>3733</td>\n",
       "      <td>680</td>\n",
       "      <td>0</td>\n",
       "      <td>0</td>\n",
       "      <td>0</td>\n",
       "      <td>0</td>\n",
       "      <td>0</td>\n",
       "      <td>1</td>\n",
       "      <td>0</td>\n",
       "      <td>0</td>\n",
       "      <td>0</td>\n",
       "      <td>0</td>\n",
       "      <td>1</td>\n",
       "      <td>0</td>\n",
       "      <td>0</td>\n",
       "    </tr>\n",
       "    <tr>\n",
       "      <th>2</th>\n",
       "      <td>H3834</td>\n",
       "      <td>1.00</td>\n",
       "      <td>0</td>\n",
       "      <td>0</td>\n",
       "      <td>0</td>\n",
       "      <td>1</td>\n",
       "      <td>0</td>\n",
       "      <td>0.00</td>\n",
       "      <td>12</td>\n",
       "      <td>0.61</td>\n",
       "      <td>2013</td>\n",
       "      <td>1960</td>\n",
       "      <td>53</td>\n",
       "      <td>2093</td>\n",
       "      <td>3733</td>\n",
       "      <td>989</td>\n",
       "      <td>0</td>\n",
       "      <td>0</td>\n",
       "      <td>0</td>\n",
       "      <td>0</td>\n",
       "      <td>0</td>\n",
       "      <td>1</td>\n",
       "      <td>0</td>\n",
       "      <td>0</td>\n",
       "      <td>0</td>\n",
       "      <td>0</td>\n",
       "      <td>1</td>\n",
       "      <td>0</td>\n",
       "      <td>0</td>\n",
       "    </tr>\n",
       "  </tbody>\n",
       "</table>\n",
       "</div>"
      ],
      "text/plain": [
       "  customer_id  insured_period  residential  building_painted  building_fenced  \\\n",
       "0      H14663            1.00            0                 1                0   \n",
       "1       H3802            1.00            0                 1                0   \n",
       "2       H3834            1.00            0                 0                0   \n",
       "\n",
       "   garden  settlement  target  insured_period_round  scaled_building_dim  \\\n",
       "0       1           0    0.00                    12                 0.06   \n",
       "1       1           0    0.00                    12                 0.13   \n",
       "2       1           0    0.00                    12                 0.61   \n",
       "\n",
       "   year_of_observation  year_of_occupancy  years_active  \\\n",
       "0                 2013               1960            53   \n",
       "1                 2014               1960            54   \n",
       "2                 2013               1960            53   \n",
       "\n",
       "   year_of_observation_freq_encode  year_of_occupancy_freq_encode  \\\n",
       "0                             2093                           3733   \n",
       "1                             1517                           3733   \n",
       "2                             2093                           3733   \n",
       "\n",
       "   years_active_freq_encode  building_type_2  building_type_3  \\\n",
       "0                       989                0                0   \n",
       "1                       680                0                0   \n",
       "2                       989                0                0   \n",
       "\n",
       "   building_type_4  quarter_Q2  quarter_Q3  quarter_Q4  decades_active_D2  \\\n",
       "0                0           0           0           1                  0   \n",
       "1                0           0           0           1                  0   \n",
       "2                0           0           0           1                  0   \n",
       "\n",
       "   decades_active_D3  decades_active_D4  decades_active_D5  decades_active_D6  \\\n",
       "0                  0                  0                  0                  1   \n",
       "1                  0                  0                  0                  1   \n",
       "2                  0                  0                  0                  1   \n",
       "\n",
       "   decades_active_D7  decades_active_D8  \n",
       "0                  0                  0  \n",
       "1                  0                  0  \n",
       "2                  0                  0  "
      ]
     },
     "metadata": {},
     "output_type": "display_data"
    },
    {
     "data": {
      "text/html": [
       "<div>\n",
       "<style scoped>\n",
       "    .dataframe tbody tr th:only-of-type {\n",
       "        vertical-align: middle;\n",
       "    }\n",
       "\n",
       "    .dataframe tbody tr th {\n",
       "        vertical-align: top;\n",
       "    }\n",
       "\n",
       "    .dataframe thead th {\n",
       "        text-align: right;\n",
       "    }\n",
       "</style>\n",
       "<table border=\"1\" class=\"dataframe\">\n",
       "  <thead>\n",
       "    <tr style=\"text-align: right;\">\n",
       "      <th></th>\n",
       "      <th>customer_id</th>\n",
       "      <th>insured_period</th>\n",
       "      <th>residential</th>\n",
       "      <th>building_painted</th>\n",
       "      <th>building_fenced</th>\n",
       "      <th>garden</th>\n",
       "      <th>settlement</th>\n",
       "      <th>target</th>\n",
       "      <th>insured_period_round</th>\n",
       "      <th>scaled_building_dim</th>\n",
       "      <th>year_of_observation</th>\n",
       "      <th>year_of_occupancy</th>\n",
       "      <th>years_active</th>\n",
       "      <th>year_of_observation_freq_encode</th>\n",
       "      <th>year_of_occupancy_freq_encode</th>\n",
       "      <th>years_active_freq_encode</th>\n",
       "      <th>building_type_2</th>\n",
       "      <th>building_type_3</th>\n",
       "      <th>building_type_4</th>\n",
       "      <th>quarter_Q2</th>\n",
       "      <th>quarter_Q3</th>\n",
       "      <th>quarter_Q4</th>\n",
       "      <th>decades_active_D2</th>\n",
       "      <th>decades_active_D3</th>\n",
       "      <th>decades_active_D4</th>\n",
       "      <th>decades_active_D5</th>\n",
       "      <th>decades_active_D6</th>\n",
       "      <th>decades_active_D7</th>\n",
       "      <th>decades_active_D8</th>\n",
       "    </tr>\n",
       "  </thead>\n",
       "  <tbody>\n",
       "    <tr>\n",
       "      <th>5469</th>\n",
       "      <td>H6204</td>\n",
       "      <td>0.04</td>\n",
       "      <td>0</td>\n",
       "      <td>0</td>\n",
       "      <td>0</td>\n",
       "      <td>1</td>\n",
       "      <td>0</td>\n",
       "      <td>0.00</td>\n",
       "      <td>1</td>\n",
       "      <td>0.39</td>\n",
       "      <td>2016</td>\n",
       "      <td>1992</td>\n",
       "      <td>24</td>\n",
       "      <td>1093</td>\n",
       "      <td>15</td>\n",
       "      <td>232</td>\n",
       "      <td>0</td>\n",
       "      <td>0</td>\n",
       "      <td>0</td>\n",
       "      <td>0</td>\n",
       "      <td>0</td>\n",
       "      <td>0</td>\n",
       "      <td>0</td>\n",
       "      <td>1</td>\n",
       "      <td>0</td>\n",
       "      <td>0</td>\n",
       "      <td>0</td>\n",
       "      <td>0</td>\n",
       "      <td>0</td>\n",
       "    </tr>\n",
       "    <tr>\n",
       "      <th>5470</th>\n",
       "      <td>H6537</td>\n",
       "      <td>1.00</td>\n",
       "      <td>0</td>\n",
       "      <td>0</td>\n",
       "      <td>0</td>\n",
       "      <td>1</td>\n",
       "      <td>0</td>\n",
       "      <td>0.00</td>\n",
       "      <td>12</td>\n",
       "      <td>0.39</td>\n",
       "      <td>2013</td>\n",
       "      <td>1972</td>\n",
       "      <td>41</td>\n",
       "      <td>2093</td>\n",
       "      <td>35</td>\n",
       "      <td>35</td>\n",
       "      <td>0</td>\n",
       "      <td>0</td>\n",
       "      <td>0</td>\n",
       "      <td>0</td>\n",
       "      <td>0</td>\n",
       "      <td>1</td>\n",
       "      <td>0</td>\n",
       "      <td>0</td>\n",
       "      <td>1</td>\n",
       "      <td>0</td>\n",
       "      <td>0</td>\n",
       "      <td>0</td>\n",
       "      <td>0</td>\n",
       "    </tr>\n",
       "    <tr>\n",
       "      <th>5471</th>\n",
       "      <td>H7470</td>\n",
       "      <td>1.00</td>\n",
       "      <td>0</td>\n",
       "      <td>0</td>\n",
       "      <td>0</td>\n",
       "      <td>1</td>\n",
       "      <td>0</td>\n",
       "      <td>0.00</td>\n",
       "      <td>12</td>\n",
       "      <td>0.39</td>\n",
       "      <td>2014</td>\n",
       "      <td>2004</td>\n",
       "      <td>10</td>\n",
       "      <td>1517</td>\n",
       "      <td>40</td>\n",
       "      <td>42</td>\n",
       "      <td>0</td>\n",
       "      <td>0</td>\n",
       "      <td>0</td>\n",
       "      <td>0</td>\n",
       "      <td>0</td>\n",
       "      <td>1</td>\n",
       "      <td>0</td>\n",
       "      <td>0</td>\n",
       "      <td>0</td>\n",
       "      <td>0</td>\n",
       "      <td>0</td>\n",
       "      <td>0</td>\n",
       "      <td>0</td>\n",
       "    </tr>\n",
       "  </tbody>\n",
       "</table>\n",
       "</div>"
      ],
      "text/plain": [
       "     customer_id  insured_period  residential  building_painted  \\\n",
       "5469       H6204            0.04            0                 0   \n",
       "5470       H6537            1.00            0                 0   \n",
       "5471       H7470            1.00            0                 0   \n",
       "\n",
       "      building_fenced  garden  settlement  target  insured_period_round  \\\n",
       "5469                0       1           0    0.00                     1   \n",
       "5470                0       1           0    0.00                    12   \n",
       "5471                0       1           0    0.00                    12   \n",
       "\n",
       "      scaled_building_dim  year_of_observation  year_of_occupancy  \\\n",
       "5469                 0.39                 2016               1992   \n",
       "5470                 0.39                 2013               1972   \n",
       "5471                 0.39                 2014               2004   \n",
       "\n",
       "      years_active  year_of_observation_freq_encode  \\\n",
       "5469            24                             1093   \n",
       "5470            41                             2093   \n",
       "5471            10                             1517   \n",
       "\n",
       "      year_of_occupancy_freq_encode  years_active_freq_encode  \\\n",
       "5469                             15                       232   \n",
       "5470                             35                        35   \n",
       "5471                             40                        42   \n",
       "\n",
       "      building_type_2  building_type_3  building_type_4  quarter_Q2  \\\n",
       "5469                0                0                0           0   \n",
       "5470                0                0                0           0   \n",
       "5471                0                0                0           0   \n",
       "\n",
       "      quarter_Q3  quarter_Q4  decades_active_D2  decades_active_D3  \\\n",
       "5469           0           0                  0                  1   \n",
       "5470           0           1                  0                  0   \n",
       "5471           0           1                  0                  0   \n",
       "\n",
       "      decades_active_D4  decades_active_D5  decades_active_D6  \\\n",
       "5469                  0                  0                  0   \n",
       "5470                  1                  0                  0   \n",
       "5471                  0                  0                  0   \n",
       "\n",
       "      decades_active_D7  decades_active_D8  \n",
       "5469                  0                  0  \n",
       "5470                  0                  0  \n",
       "5471                  0                  0  "
      ]
     },
     "metadata": {},
     "output_type": "display_data"
    },
    {
     "data": {
      "text/plain": [
       "'test data'"
      ]
     },
     "metadata": {},
     "output_type": "display_data"
    },
    {
     "name": "stdout",
     "output_type": "stream",
     "text": [
      "Dimensins:  (2674, 28)\n"
     ]
    },
    {
     "data": {
      "text/html": [
       "<div>\n",
       "<style scoped>\n",
       "    .dataframe tbody tr th:only-of-type {\n",
       "        vertical-align: middle;\n",
       "    }\n",
       "\n",
       "    .dataframe tbody tr th {\n",
       "        vertical-align: top;\n",
       "    }\n",
       "\n",
       "    .dataframe thead th {\n",
       "        text-align: right;\n",
       "    }\n",
       "</style>\n",
       "<table border=\"1\" class=\"dataframe\">\n",
       "  <thead>\n",
       "    <tr style=\"text-align: right;\">\n",
       "      <th></th>\n",
       "      <th>customer_id</th>\n",
       "      <th>insured_period</th>\n",
       "      <th>residential</th>\n",
       "      <th>building_painted</th>\n",
       "      <th>building_fenced</th>\n",
       "      <th>garden</th>\n",
       "      <th>settlement</th>\n",
       "      <th>insured_period_round</th>\n",
       "      <th>scaled_building_dim</th>\n",
       "      <th>year_of_observation</th>\n",
       "      <th>year_of_occupancy</th>\n",
       "      <th>years_active</th>\n",
       "      <th>year_of_observation_freq_encode</th>\n",
       "      <th>year_of_occupancy_freq_encode</th>\n",
       "      <th>years_active_freq_encode</th>\n",
       "      <th>building_type_2</th>\n",
       "      <th>building_type_3</th>\n",
       "      <th>building_type_4</th>\n",
       "      <th>quarter_Q2</th>\n",
       "      <th>quarter_Q3</th>\n",
       "      <th>quarter_Q4</th>\n",
       "      <th>decades_active_D2</th>\n",
       "      <th>decades_active_D3</th>\n",
       "      <th>decades_active_D4</th>\n",
       "      <th>decades_active_D5</th>\n",
       "      <th>decades_active_D6</th>\n",
       "      <th>decades_active_D7</th>\n",
       "      <th>decades_active_D8</th>\n",
       "    </tr>\n",
       "  </thead>\n",
       "  <tbody>\n",
       "    <tr>\n",
       "      <th>0</th>\n",
       "      <td>H11920</td>\n",
       "      <td>1.00</td>\n",
       "      <td>0</td>\n",
       "      <td>0</td>\n",
       "      <td>1</td>\n",
       "      <td>0</td>\n",
       "      <td>1</td>\n",
       "      <td>12</td>\n",
       "      <td>0.06</td>\n",
       "      <td>2013</td>\n",
       "      <td>1960</td>\n",
       "      <td>53</td>\n",
       "      <td>2093</td>\n",
       "      <td>3733</td>\n",
       "      <td>989</td>\n",
       "      <td>0</td>\n",
       "      <td>0</td>\n",
       "      <td>0</td>\n",
       "      <td>0</td>\n",
       "      <td>0</td>\n",
       "      <td>1</td>\n",
       "      <td>0</td>\n",
       "      <td>0</td>\n",
       "      <td>0</td>\n",
       "      <td>0</td>\n",
       "      <td>1</td>\n",
       "      <td>0</td>\n",
       "      <td>0</td>\n",
       "    </tr>\n",
       "    <tr>\n",
       "      <th>1</th>\n",
       "      <td>H11921</td>\n",
       "      <td>1.00</td>\n",
       "      <td>0</td>\n",
       "      <td>0</td>\n",
       "      <td>1</td>\n",
       "      <td>0</td>\n",
       "      <td>1</td>\n",
       "      <td>12</td>\n",
       "      <td>0.06</td>\n",
       "      <td>2016</td>\n",
       "      <td>1960</td>\n",
       "      <td>56</td>\n",
       "      <td>1093</td>\n",
       "      <td>3733</td>\n",
       "      <td>457</td>\n",
       "      <td>0</td>\n",
       "      <td>0</td>\n",
       "      <td>0</td>\n",
       "      <td>0</td>\n",
       "      <td>0</td>\n",
       "      <td>1</td>\n",
       "      <td>0</td>\n",
       "      <td>0</td>\n",
       "      <td>0</td>\n",
       "      <td>0</td>\n",
       "      <td>1</td>\n",
       "      <td>0</td>\n",
       "      <td>0</td>\n",
       "    </tr>\n",
       "    <tr>\n",
       "      <th>2</th>\n",
       "      <td>H9805</td>\n",
       "      <td>0.37</td>\n",
       "      <td>0</td>\n",
       "      <td>0</td>\n",
       "      <td>0</td>\n",
       "      <td>1</td>\n",
       "      <td>0</td>\n",
       "      <td>5</td>\n",
       "      <td>0.17</td>\n",
       "      <td>2013</td>\n",
       "      <td>1960</td>\n",
       "      <td>53</td>\n",
       "      <td>2093</td>\n",
       "      <td>3733</td>\n",
       "      <td>989</td>\n",
       "      <td>0</td>\n",
       "      <td>0</td>\n",
       "      <td>0</td>\n",
       "      <td>1</td>\n",
       "      <td>0</td>\n",
       "      <td>0</td>\n",
       "      <td>0</td>\n",
       "      <td>0</td>\n",
       "      <td>0</td>\n",
       "      <td>0</td>\n",
       "      <td>1</td>\n",
       "      <td>0</td>\n",
       "      <td>0</td>\n",
       "    </tr>\n",
       "  </tbody>\n",
       "</table>\n",
       "</div>"
      ],
      "text/plain": [
       "  customer_id  insured_period  residential  building_painted  building_fenced  \\\n",
       "0      H11920            1.00            0                 0                1   \n",
       "1      H11921            1.00            0                 0                1   \n",
       "2       H9805            0.37            0                 0                0   \n",
       "\n",
       "   garden  settlement  insured_period_round  scaled_building_dim  \\\n",
       "0       0           1                    12                 0.06   \n",
       "1       0           1                    12                 0.06   \n",
       "2       1           0                     5                 0.17   \n",
       "\n",
       "   year_of_observation  year_of_occupancy  years_active  \\\n",
       "0                 2013               1960            53   \n",
       "1                 2016               1960            56   \n",
       "2                 2013               1960            53   \n",
       "\n",
       "   year_of_observation_freq_encode  year_of_occupancy_freq_encode  \\\n",
       "0                             2093                           3733   \n",
       "1                             1093                           3733   \n",
       "2                             2093                           3733   \n",
       "\n",
       "   years_active_freq_encode  building_type_2  building_type_3  \\\n",
       "0                       989                0                0   \n",
       "1                       457                0                0   \n",
       "2                       989                0                0   \n",
       "\n",
       "   building_type_4  quarter_Q2  quarter_Q3  quarter_Q4  decades_active_D2  \\\n",
       "0                0           0           0           1                  0   \n",
       "1                0           0           0           1                  0   \n",
       "2                0           1           0           0                  0   \n",
       "\n",
       "   decades_active_D3  decades_active_D4  decades_active_D5  decades_active_D6  \\\n",
       "0                  0                  0                  0                  1   \n",
       "1                  0                  0                  0                  1   \n",
       "2                  0                  0                  0                  1   \n",
       "\n",
       "   decades_active_D7  decades_active_D8  \n",
       "0                  0                  0  \n",
       "1                  0                  0  \n",
       "2                  0                  0  "
      ]
     },
     "metadata": {},
     "output_type": "display_data"
    },
    {
     "data": {
      "text/html": [
       "<div>\n",
       "<style scoped>\n",
       "    .dataframe tbody tr th:only-of-type {\n",
       "        vertical-align: middle;\n",
       "    }\n",
       "\n",
       "    .dataframe tbody tr th {\n",
       "        vertical-align: top;\n",
       "    }\n",
       "\n",
       "    .dataframe thead th {\n",
       "        text-align: right;\n",
       "    }\n",
       "</style>\n",
       "<table border=\"1\" class=\"dataframe\">\n",
       "  <thead>\n",
       "    <tr style=\"text-align: right;\">\n",
       "      <th></th>\n",
       "      <th>customer_id</th>\n",
       "      <th>insured_period</th>\n",
       "      <th>residential</th>\n",
       "      <th>building_painted</th>\n",
       "      <th>building_fenced</th>\n",
       "      <th>garden</th>\n",
       "      <th>settlement</th>\n",
       "      <th>target</th>\n",
       "      <th>insured_period_round</th>\n",
       "      <th>scaled_building_dim</th>\n",
       "      <th>year_of_observation</th>\n",
       "      <th>year_of_occupancy</th>\n",
       "      <th>years_active</th>\n",
       "      <th>year_of_observation_freq_encode</th>\n",
       "      <th>year_of_occupancy_freq_encode</th>\n",
       "      <th>years_active_freq_encode</th>\n",
       "      <th>building_type_2</th>\n",
       "      <th>building_type_3</th>\n",
       "      <th>building_type_4</th>\n",
       "      <th>quarter_Q2</th>\n",
       "      <th>quarter_Q3</th>\n",
       "      <th>quarter_Q4</th>\n",
       "      <th>decades_active_D2</th>\n",
       "      <th>decades_active_D3</th>\n",
       "      <th>decades_active_D4</th>\n",
       "      <th>decades_active_D5</th>\n",
       "      <th>decades_active_D6</th>\n",
       "      <th>decades_active_D7</th>\n",
       "      <th>decades_active_D8</th>\n",
       "    </tr>\n",
       "  </thead>\n",
       "  <tbody>\n",
       "    <tr>\n",
       "      <th>5469</th>\n",
       "      <td>H6204</td>\n",
       "      <td>0.04</td>\n",
       "      <td>0</td>\n",
       "      <td>0</td>\n",
       "      <td>0</td>\n",
       "      <td>1</td>\n",
       "      <td>0</td>\n",
       "      <td>0.00</td>\n",
       "      <td>1</td>\n",
       "      <td>0.39</td>\n",
       "      <td>2016</td>\n",
       "      <td>1992</td>\n",
       "      <td>24</td>\n",
       "      <td>1093</td>\n",
       "      <td>15</td>\n",
       "      <td>232</td>\n",
       "      <td>0</td>\n",
       "      <td>0</td>\n",
       "      <td>0</td>\n",
       "      <td>0</td>\n",
       "      <td>0</td>\n",
       "      <td>0</td>\n",
       "      <td>0</td>\n",
       "      <td>1</td>\n",
       "      <td>0</td>\n",
       "      <td>0</td>\n",
       "      <td>0</td>\n",
       "      <td>0</td>\n",
       "      <td>0</td>\n",
       "    </tr>\n",
       "    <tr>\n",
       "      <th>5470</th>\n",
       "      <td>H6537</td>\n",
       "      <td>1.00</td>\n",
       "      <td>0</td>\n",
       "      <td>0</td>\n",
       "      <td>0</td>\n",
       "      <td>1</td>\n",
       "      <td>0</td>\n",
       "      <td>0.00</td>\n",
       "      <td>12</td>\n",
       "      <td>0.39</td>\n",
       "      <td>2013</td>\n",
       "      <td>1972</td>\n",
       "      <td>41</td>\n",
       "      <td>2093</td>\n",
       "      <td>35</td>\n",
       "      <td>35</td>\n",
       "      <td>0</td>\n",
       "      <td>0</td>\n",
       "      <td>0</td>\n",
       "      <td>0</td>\n",
       "      <td>0</td>\n",
       "      <td>1</td>\n",
       "      <td>0</td>\n",
       "      <td>0</td>\n",
       "      <td>1</td>\n",
       "      <td>0</td>\n",
       "      <td>0</td>\n",
       "      <td>0</td>\n",
       "      <td>0</td>\n",
       "    </tr>\n",
       "    <tr>\n",
       "      <th>5471</th>\n",
       "      <td>H7470</td>\n",
       "      <td>1.00</td>\n",
       "      <td>0</td>\n",
       "      <td>0</td>\n",
       "      <td>0</td>\n",
       "      <td>1</td>\n",
       "      <td>0</td>\n",
       "      <td>0.00</td>\n",
       "      <td>12</td>\n",
       "      <td>0.39</td>\n",
       "      <td>2014</td>\n",
       "      <td>2004</td>\n",
       "      <td>10</td>\n",
       "      <td>1517</td>\n",
       "      <td>40</td>\n",
       "      <td>42</td>\n",
       "      <td>0</td>\n",
       "      <td>0</td>\n",
       "      <td>0</td>\n",
       "      <td>0</td>\n",
       "      <td>0</td>\n",
       "      <td>1</td>\n",
       "      <td>0</td>\n",
       "      <td>0</td>\n",
       "      <td>0</td>\n",
       "      <td>0</td>\n",
       "      <td>0</td>\n",
       "      <td>0</td>\n",
       "      <td>0</td>\n",
       "    </tr>\n",
       "  </tbody>\n",
       "</table>\n",
       "</div>"
      ],
      "text/plain": [
       "     customer_id  insured_period  residential  building_painted  \\\n",
       "5469       H6204            0.04            0                 0   \n",
       "5470       H6537            1.00            0                 0   \n",
       "5471       H7470            1.00            0                 0   \n",
       "\n",
       "      building_fenced  garden  settlement  target  insured_period_round  \\\n",
       "5469                0       1           0    0.00                     1   \n",
       "5470                0       1           0    0.00                    12   \n",
       "5471                0       1           0    0.00                    12   \n",
       "\n",
       "      scaled_building_dim  year_of_observation  year_of_occupancy  \\\n",
       "5469                 0.39                 2016               1992   \n",
       "5470                 0.39                 2013               1972   \n",
       "5471                 0.39                 2014               2004   \n",
       "\n",
       "      years_active  year_of_observation_freq_encode  \\\n",
       "5469            24                             1093   \n",
       "5470            41                             2093   \n",
       "5471            10                             1517   \n",
       "\n",
       "      year_of_occupancy_freq_encode  years_active_freq_encode  \\\n",
       "5469                             15                       232   \n",
       "5470                             35                        35   \n",
       "5471                             40                        42   \n",
       "\n",
       "      building_type_2  building_type_3  building_type_4  quarter_Q2  \\\n",
       "5469                0                0                0           0   \n",
       "5470                0                0                0           0   \n",
       "5471                0                0                0           0   \n",
       "\n",
       "      quarter_Q3  quarter_Q4  decades_active_D2  decades_active_D3  \\\n",
       "5469           0           0                  0                  1   \n",
       "5470           0           1                  0                  0   \n",
       "5471           0           1                  0                  0   \n",
       "\n",
       "      decades_active_D4  decades_active_D5  decades_active_D6  \\\n",
       "5469                  0                  0                  0   \n",
       "5470                  1                  0                  0   \n",
       "5471                  0                  0                  0   \n",
       "\n",
       "      decades_active_D7  decades_active_D8  \n",
       "5469                  0                  0  \n",
       "5470                  0                  0  \n",
       "5471                  0                  0  "
      ]
     },
     "metadata": {},
     "output_type": "display_data"
    }
   ],
   "source": [
    "# Print First Few Rows Of The Data\n",
    "display(\"Train data\")\n",
    "print('Dimensins: ', train.shape)\n",
    "display(train.head(3))\n",
    "display(train.tail(3))\n",
    "display(\"test data\")\n",
    "print('Dimensins: ', test.shape)\n",
    "display(test.head(3))\n",
    "display(train.tail(3))"
   ]
  },
  {
   "cell_type": "code",
   "execution_count": null,
   "metadata": {},
   "outputs": [],
   "source": []
  },
  {
   "cell_type": "code",
   "execution_count": 64,
   "metadata": {},
   "outputs": [],
   "source": [
    "#write to sv for variable and model selection \n",
    "train.to_csv('train_clean.csv', index=False)\n",
    "test.to_csv('test_clean.csv', index=False)"
   ]
  },
  {
   "cell_type": "code",
   "execution_count": 65,
   "metadata": {},
   "outputs": [],
   "source": [
    "##############################################################################################################################"
   ]
  },
  {
   "cell_type": "code",
   "execution_count": null,
   "metadata": {},
   "outputs": [],
   "source": []
  }
 ],
 "metadata": {
  "kernelspec": {
   "display_name": "Python 3",
   "language": "python",
   "name": "python3"
  },
  "language_info": {
   "codemirror_mode": {
    "name": "ipython",
    "version": 3
   },
   "file_extension": ".py",
   "mimetype": "text/x-python",
   "name": "python",
   "nbconvert_exporter": "python",
   "pygments_lexer": "ipython3",
   "version": "3.7.4"
  }
 },
 "nbformat": 4,
 "nbformat_minor": 2
}
